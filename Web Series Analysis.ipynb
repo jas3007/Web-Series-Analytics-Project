{
 "cells": [
  {
   "cell_type": "code",
   "execution_count": 1,
   "id": "0e30c924",
   "metadata": {},
   "outputs": [],
   "source": [
    "import pandas as pd\n",
    "import numpy as np \n",
    "import matplotlib.pyplot as plt\n",
    "import seaborn as sns \n"
   ]
  },
  {
   "cell_type": "code",
   "execution_count": 2,
   "id": "ddfe59dd",
   "metadata": {},
   "outputs": [],
   "source": [
    "dataset=pd.read_csv(r\"D:\\anime.csv\")"
   ]
  },
  {
   "cell_type": "code",
   "execution_count": 4,
   "id": "6512d4fe",
   "metadata": {},
   "outputs": [
    {
     "data": {
      "text/html": [
       "<div>\n",
       "<style scoped>\n",
       "    .dataframe tbody tr th:only-of-type {\n",
       "        vertical-align: middle;\n",
       "    }\n",
       "\n",
       "    .dataframe tbody tr th {\n",
       "        vertical-align: top;\n",
       "    }\n",
       "\n",
       "    .dataframe thead th {\n",
       "        text-align: right;\n",
       "    }\n",
       "</style>\n",
       "<table border=\"1\" class=\"dataframe\">\n",
       "  <thead>\n",
       "    <tr style=\"text-align: right;\">\n",
       "      <th></th>\n",
       "      <th>title</th>\n",
       "      <th>description</th>\n",
       "      <th>mediaType</th>\n",
       "      <th>eps</th>\n",
       "      <th>duration</th>\n",
       "      <th>ongoing</th>\n",
       "      <th>sznOfRelease</th>\n",
       "      <th>years_running</th>\n",
       "      <th>studio_primary</th>\n",
       "      <th>studios_colab</th>\n",
       "      <th>...</th>\n",
       "      <th>tag_Supernatural</th>\n",
       "      <th>tag_Magic</th>\n",
       "      <th>tag_Animal_Protagonists</th>\n",
       "      <th>tag_Ecchi</th>\n",
       "      <th>tag_Mecha</th>\n",
       "      <th>tag_Based_on_a_Light_Novel</th>\n",
       "      <th>tag_CG_Animation</th>\n",
       "      <th>tag_Superpowers</th>\n",
       "      <th>tag_Others</th>\n",
       "      <th>tag_missing</th>\n",
       "    </tr>\n",
       "  </thead>\n",
       "  <tbody>\n",
       "    <tr>\n",
       "      <th>0</th>\n",
       "      <td>Fullmetal Alchemist: Brotherhood</td>\n",
       "      <td>The foundation of alchemy is based on the law ...</td>\n",
       "      <td>TV</td>\n",
       "      <td>64</td>\n",
       "      <td>NaN</td>\n",
       "      <td>False</td>\n",
       "      <td>Spring</td>\n",
       "      <td>1</td>\n",
       "      <td>Bones</td>\n",
       "      <td>0</td>\n",
       "      <td>...</td>\n",
       "      <td>0</td>\n",
       "      <td>0</td>\n",
       "      <td>0</td>\n",
       "      <td>0</td>\n",
       "      <td>0</td>\n",
       "      <td>0</td>\n",
       "      <td>0</td>\n",
       "      <td>0</td>\n",
       "      <td>0</td>\n",
       "      <td>0</td>\n",
       "    </tr>\n",
       "    <tr>\n",
       "      <th>1</th>\n",
       "      <td>your name.</td>\n",
       "      <td>Mitsuha and Taki are two total strangers livin...</td>\n",
       "      <td>Movie</td>\n",
       "      <td>1</td>\n",
       "      <td>107.0</td>\n",
       "      <td>False</td>\n",
       "      <td>is_missing</td>\n",
       "      <td>0</td>\n",
       "      <td>Others</td>\n",
       "      <td>0</td>\n",
       "      <td>...</td>\n",
       "      <td>1</td>\n",
       "      <td>0</td>\n",
       "      <td>0</td>\n",
       "      <td>0</td>\n",
       "      <td>0</td>\n",
       "      <td>0</td>\n",
       "      <td>0</td>\n",
       "      <td>0</td>\n",
       "      <td>0</td>\n",
       "      <td>0</td>\n",
       "    </tr>\n",
       "  </tbody>\n",
       "</table>\n",
       "<p>2 rows × 44 columns</p>\n",
       "</div>"
      ],
      "text/plain": [
       "                              title  \\\n",
       "0  Fullmetal Alchemist: Brotherhood   \n",
       "1                        your name.   \n",
       "\n",
       "                                         description mediaType  eps  duration  \\\n",
       "0  The foundation of alchemy is based on the law ...        TV   64       NaN   \n",
       "1  Mitsuha and Taki are two total strangers livin...     Movie    1     107.0   \n",
       "\n",
       "   ongoing sznOfRelease  years_running studio_primary  studios_colab  ...  \\\n",
       "0    False       Spring              1          Bones              0  ...   \n",
       "1    False   is_missing              0         Others              0  ...   \n",
       "\n",
       "   tag_Supernatural  tag_Magic  tag_Animal_Protagonists  tag_Ecchi  tag_Mecha  \\\n",
       "0                 0          0                        0          0          0   \n",
       "1                 1          0                        0          0          0   \n",
       "\n",
       "   tag_Based_on_a_Light_Novel  tag_CG_Animation  tag_Superpowers  tag_Others  \\\n",
       "0                           0                 0                0           0   \n",
       "1                           0                 0                0           0   \n",
       "\n",
       "   tag_missing  \n",
       "0            0  \n",
       "1            0  \n",
       "\n",
       "[2 rows x 44 columns]"
      ]
     },
     "execution_count": 4,
     "metadata": {},
     "output_type": "execute_result"
    }
   ],
   "source": [
    "dataset.head(2)"
   ]
  },
  {
   "cell_type": "code",
   "execution_count": 5,
   "id": "b54677f9",
   "metadata": {},
   "outputs": [
    {
     "data": {
      "text/plain": [
       "(12101, 44)"
      ]
     },
     "execution_count": 5,
     "metadata": {},
     "output_type": "execute_result"
    }
   ],
   "source": [
    "dataset.shape"
   ]
  },
  {
   "cell_type": "code",
   "execution_count": 6,
   "id": "c7bcbf2d",
   "metadata": {},
   "outputs": [
    {
     "data": {
      "text/plain": [
       "Index(['title', 'description', 'mediaType', 'eps', 'duration', 'ongoing',\n",
       "       'sznOfRelease', 'years_running', 'studio_primary', 'studios_colab',\n",
       "       'contentWarn', 'watched', 'watching', 'wantWatch', 'dropped', 'rating',\n",
       "       'votes', 'tag_Based_on_a_Manga', 'tag_Comedy', 'tag_Action',\n",
       "       'tag_Fantasy', 'tag_Sci_Fi', 'tag_Shounen', 'tag_Original_Work',\n",
       "       'tag_Non_Human_Protagonists', 'tag_Drama', 'tag_Adventure',\n",
       "       'tag_Family_Friendly', 'tag_Short_Episodes', 'tag_School_Life',\n",
       "       'tag_Romance', 'tag_Shorts', 'tag_Slice_of_Life', 'tag_Seinen',\n",
       "       'tag_Supernatural', 'tag_Magic', 'tag_Animal_Protagonists', 'tag_Ecchi',\n",
       "       'tag_Mecha', 'tag_Based_on_a_Light_Novel', 'tag_CG_Animation',\n",
       "       'tag_Superpowers', 'tag_Others', 'tag_missing'],\n",
       "      dtype='object')"
      ]
     },
     "execution_count": 6,
     "metadata": {},
     "output_type": "execute_result"
    }
   ],
   "source": [
    "dataset.columns"
   ]
  },
  {
   "cell_type": "code",
   "execution_count": 7,
   "id": "2a1df70a",
   "metadata": {},
   "outputs": [
    {
     "data": {
      "text/plain": [
       "count    12101.000000\n",
       "mean        13.393356\n",
       "std         57.925097\n",
       "min          1.000000\n",
       "25%          1.000000\n",
       "50%          2.000000\n",
       "75%         12.000000\n",
       "max       2527.000000\n",
       "Name: eps, dtype: float64"
      ]
     },
     "execution_count": 7,
     "metadata": {},
     "output_type": "execute_result"
    }
   ],
   "source": [
    "dataset.eps.describe()"
   ]
  },
  {
   "cell_type": "code",
   "execution_count": 8,
   "id": "8d688dec",
   "metadata": {},
   "outputs": [
    {
     "data": {
      "text/plain": [
       "(1493, 44)"
      ]
     },
     "execution_count": 8,
     "metadata": {},
     "output_type": "execute_result"
    }
   ],
   "source": [
    "dataset[(dataset['eps'] > 24) & (dataset.duration.isna())].shape"
   ]
  },
  {
   "cell_type": "code",
   "execution_count": 9,
   "id": "c117c67f",
   "metadata": {},
   "outputs": [],
   "source": [
    "dataset_excluding_out = dataset[dataset['eps'] < 50]"
   ]
  },
  {
   "cell_type": "code",
   "execution_count": 10,
   "id": "28016de2",
   "metadata": {},
   "outputs": [
    {
     "name": "stderr",
     "output_type": "stream",
     "text": [
      "C:\\Users\\Nazia Sheikh\\AppData\\Local\\Temp\\ipykernel_12260\\3829596462.py:1: SettingWithCopyWarning: \n",
      "A value is trying to be set on a copy of a slice from a DataFrame.\n",
      "Try using .loc[row_indexer,col_indexer] = value instead\n",
      "\n",
      "See the caveats in the documentation: https://pandas.pydata.org/pandas-docs/stable/user_guide/indexing.html#returning-a-view-versus-a-copy\n",
      "  dataset_excluding_out['eps_brackets'] = pd.cut(dataset_excluding_out['eps'], bins = [1,10,20, 30, 40, 50],\\\n"
     ]
    }
   ],
   "source": [
    "dataset_excluding_out['eps_brackets'] = pd.cut(dataset_excluding_out['eps'], bins = [1,10,20, 30, 40, 50],\\\n",
    "                                 labels = ['cat1', 'cat2', 'cat3', 'cat4', 'cat5'])"
   ]
  },
  {
   "cell_type": "code",
   "execution_count": 11,
   "id": "259f920d",
   "metadata": {},
   "outputs": [
    {
     "data": {
      "text/plain": [
       "(11388, 45)"
      ]
     },
     "execution_count": 11,
     "metadata": {},
     "output_type": "execute_result"
    }
   ],
   "source": [
    "dataset_excluding_out.shape"
   ]
  },
  {
   "cell_type": "code",
   "execution_count": 12,
   "id": "d6400491",
   "metadata": {},
   "outputs": [
    {
     "data": {
      "text/plain": [
       "eps_brackets\n",
       "cat1    13.556684\n",
       "cat2     7.419295\n",
       "cat3     7.184783\n",
       "cat4     8.549020\n",
       "cat5     8.823529\n",
       "Name: duration, dtype: float64"
      ]
     },
     "execution_count": 12,
     "metadata": {},
     "output_type": "execute_result"
    }
   ],
   "source": [
    "dataset_excluding_out.groupby(['eps_brackets']).duration.mean()"
   ]
  },
  {
   "cell_type": "code",
   "execution_count": 13,
   "id": "e4b7c7dc",
   "metadata": {},
   "outputs": [
    {
     "data": {
      "text/plain": [
       "eps_brackets\n",
       "cat1    1901\n",
       "cat2    2112\n",
       "cat3    1038\n",
       "cat4     220\n",
       "cat5     169\n",
       "Name: title, dtype: int64"
      ]
     },
     "execution_count": 13,
     "metadata": {},
     "output_type": "execute_result"
    }
   ],
   "source": [
    "dataset_excluding_out.groupby(['eps_brackets']).title.count()"
   ]
  },
  {
   "cell_type": "code",
   "execution_count": 14,
   "id": "dff980de",
   "metadata": {},
   "outputs": [
    {
     "data": {
      "text/plain": [
       "(1901, 45)"
      ]
     },
     "execution_count": 14,
     "metadata": {},
     "output_type": "execute_result"
    }
   ],
   "source": [
    "dataset_excluding_out[dataset_excluding_out['eps_brackets'] == 'cat1'].shape"
   ]
  },
  {
   "cell_type": "code",
   "execution_count": 15,
   "id": "4c7b937e",
   "metadata": {},
   "outputs": [
    {
     "data": {
      "text/html": [
       "<div>\n",
       "<style scoped>\n",
       "    .dataframe tbody tr th:only-of-type {\n",
       "        vertical-align: middle;\n",
       "    }\n",
       "\n",
       "    .dataframe tbody tr th {\n",
       "        vertical-align: top;\n",
       "    }\n",
       "\n",
       "    .dataframe thead th {\n",
       "        text-align: right;\n",
       "    }\n",
       "</style>\n",
       "<table border=\"1\" class=\"dataframe\">\n",
       "  <thead>\n",
       "    <tr style=\"text-align: right;\">\n",
       "      <th></th>\n",
       "      <th>eps</th>\n",
       "      <th>duration</th>\n",
       "      <th>years_running</th>\n",
       "      <th>studios_colab</th>\n",
       "      <th>contentWarn</th>\n",
       "      <th>watched</th>\n",
       "      <th>watching</th>\n",
       "      <th>wantWatch</th>\n",
       "      <th>dropped</th>\n",
       "      <th>rating</th>\n",
       "      <th>...</th>\n",
       "      <th>tag_Supernatural</th>\n",
       "      <th>tag_Magic</th>\n",
       "      <th>tag_Animal_Protagonists</th>\n",
       "      <th>tag_Ecchi</th>\n",
       "      <th>tag_Mecha</th>\n",
       "      <th>tag_Based_on_a_Light_Novel</th>\n",
       "      <th>tag_CG_Animation</th>\n",
       "      <th>tag_Superpowers</th>\n",
       "      <th>tag_Others</th>\n",
       "      <th>tag_missing</th>\n",
       "    </tr>\n",
       "  </thead>\n",
       "  <tbody>\n",
       "    <tr>\n",
       "      <th>count</th>\n",
       "      <td>7098.000000</td>\n",
       "      <td>7098.000000</td>\n",
       "      <td>7098.000000</td>\n",
       "      <td>7098.000000</td>\n",
       "      <td>7098.000000</td>\n",
       "      <td>7098.000000</td>\n",
       "      <td>7098.000000</td>\n",
       "      <td>7098.000000</td>\n",
       "      <td>7098.000000</td>\n",
       "      <td>7098.000000</td>\n",
       "      <td>...</td>\n",
       "      <td>7098.000000</td>\n",
       "      <td>7098.000000</td>\n",
       "      <td>7098.000000</td>\n",
       "      <td>7098.000000</td>\n",
       "      <td>7098.000000</td>\n",
       "      <td>7098.000000</td>\n",
       "      <td>7098.00000</td>\n",
       "      <td>7098.000000</td>\n",
       "      <td>7098.000000</td>\n",
       "      <td>7098.000000</td>\n",
       "    </tr>\n",
       "    <tr>\n",
       "      <th>mean</th>\n",
       "      <td>2.546210</td>\n",
       "      <td>25.080727</td>\n",
       "      <td>0.104959</td>\n",
       "      <td>0.034658</td>\n",
       "      <td>0.095661</td>\n",
       "      <td>1531.826289</td>\n",
       "      <td>42.525923</td>\n",
       "      <td>609.343054</td>\n",
       "      <td>22.749084</td>\n",
       "      <td>2.742419</td>\n",
       "      <td>...</td>\n",
       "      <td>0.057904</td>\n",
       "      <td>0.044520</td>\n",
       "      <td>0.066216</td>\n",
       "      <td>0.042265</td>\n",
       "      <td>0.038321</td>\n",
       "      <td>0.033390</td>\n",
       "      <td>0.05410</td>\n",
       "      <td>0.033671</td>\n",
       "      <td>0.132150</td>\n",
       "      <td>0.039589</td>\n",
       "    </tr>\n",
       "    <tr>\n",
       "      <th>std</th>\n",
       "      <td>3.611337</td>\n",
       "      <td>32.016127</td>\n",
       "      <td>0.556363</td>\n",
       "      <td>0.182924</td>\n",
       "      <td>0.294146</td>\n",
       "      <td>4699.844075</td>\n",
       "      <td>238.987630</td>\n",
       "      <td>1301.861782</td>\n",
       "      <td>72.586285</td>\n",
       "      <td>0.831137</td>\n",
       "      <td>...</td>\n",
       "      <td>0.233578</td>\n",
       "      <td>0.206261</td>\n",
       "      <td>0.248677</td>\n",
       "      <td>0.201208</td>\n",
       "      <td>0.191983</td>\n",
       "      <td>0.179665</td>\n",
       "      <td>0.22623</td>\n",
       "      <td>0.180395</td>\n",
       "      <td>0.338678</td>\n",
       "      <td>0.195004</td>\n",
       "    </tr>\n",
       "    <tr>\n",
       "      <th>min</th>\n",
       "      <td>1.000000</td>\n",
       "      <td>1.000000</td>\n",
       "      <td>0.000000</td>\n",
       "      <td>0.000000</td>\n",
       "      <td>0.000000</td>\n",
       "      <td>0.000000</td>\n",
       "      <td>0.000000</td>\n",
       "      <td>0.000000</td>\n",
       "      <td>0.000000</td>\n",
       "      <td>0.844000</td>\n",
       "      <td>...</td>\n",
       "      <td>0.000000</td>\n",
       "      <td>0.000000</td>\n",
       "      <td>0.000000</td>\n",
       "      <td>0.000000</td>\n",
       "      <td>0.000000</td>\n",
       "      <td>0.000000</td>\n",
       "      <td>0.00000</td>\n",
       "      <td>0.000000</td>\n",
       "      <td>0.000000</td>\n",
       "      <td>0.000000</td>\n",
       "    </tr>\n",
       "    <tr>\n",
       "      <th>25%</th>\n",
       "      <td>1.000000</td>\n",
       "      <td>4.000000</td>\n",
       "      <td>0.000000</td>\n",
       "      <td>0.000000</td>\n",
       "      <td>0.000000</td>\n",
       "      <td>41.000000</td>\n",
       "      <td>1.000000</td>\n",
       "      <td>28.000000</td>\n",
       "      <td>1.000000</td>\n",
       "      <td>2.072000</td>\n",
       "      <td>...</td>\n",
       "      <td>0.000000</td>\n",
       "      <td>0.000000</td>\n",
       "      <td>0.000000</td>\n",
       "      <td>0.000000</td>\n",
       "      <td>0.000000</td>\n",
       "      <td>0.000000</td>\n",
       "      <td>0.00000</td>\n",
       "      <td>0.000000</td>\n",
       "      <td>0.000000</td>\n",
       "      <td>0.000000</td>\n",
       "    </tr>\n",
       "    <tr>\n",
       "      <th>50%</th>\n",
       "      <td>1.000000</td>\n",
       "      <td>9.000000</td>\n",
       "      <td>0.000000</td>\n",
       "      <td>0.000000</td>\n",
       "      <td>0.000000</td>\n",
       "      <td>170.000000</td>\n",
       "      <td>5.000000</td>\n",
       "      <td>136.000000</td>\n",
       "      <td>5.000000</td>\n",
       "      <td>2.707000</td>\n",
       "      <td>...</td>\n",
       "      <td>0.000000</td>\n",
       "      <td>0.000000</td>\n",
       "      <td>0.000000</td>\n",
       "      <td>0.000000</td>\n",
       "      <td>0.000000</td>\n",
       "      <td>0.000000</td>\n",
       "      <td>0.00000</td>\n",
       "      <td>0.000000</td>\n",
       "      <td>0.000000</td>\n",
       "      <td>0.000000</td>\n",
       "    </tr>\n",
       "    <tr>\n",
       "      <th>75%</th>\n",
       "      <td>1.000000</td>\n",
       "      <td>30.000000</td>\n",
       "      <td>0.000000</td>\n",
       "      <td>0.000000</td>\n",
       "      <td>0.000000</td>\n",
       "      <td>914.000000</td>\n",
       "      <td>26.000000</td>\n",
       "      <td>622.000000</td>\n",
       "      <td>17.000000</td>\n",
       "      <td>3.387750</td>\n",
       "      <td>...</td>\n",
       "      <td>0.000000</td>\n",
       "      <td>0.000000</td>\n",
       "      <td>0.000000</td>\n",
       "      <td>0.000000</td>\n",
       "      <td>0.000000</td>\n",
       "      <td>0.000000</td>\n",
       "      <td>0.00000</td>\n",
       "      <td>0.000000</td>\n",
       "      <td>0.000000</td>\n",
       "      <td>0.000000</td>\n",
       "    </tr>\n",
       "    <tr>\n",
       "      <th>max</th>\n",
       "      <td>23.000000</td>\n",
       "      <td>163.000000</td>\n",
       "      <td>20.000000</td>\n",
       "      <td>1.000000</td>\n",
       "      <td>1.000000</td>\n",
       "      <td>115949.000000</td>\n",
       "      <td>15732.000000</td>\n",
       "      <td>21733.000000</td>\n",
       "      <td>2010.000000</td>\n",
       "      <td>4.663000</td>\n",
       "      <td>...</td>\n",
       "      <td>1.000000</td>\n",
       "      <td>1.000000</td>\n",
       "      <td>1.000000</td>\n",
       "      <td>1.000000</td>\n",
       "      <td>1.000000</td>\n",
       "      <td>1.000000</td>\n",
       "      <td>1.00000</td>\n",
       "      <td>1.000000</td>\n",
       "      <td>1.000000</td>\n",
       "      <td>1.000000</td>\n",
       "    </tr>\n",
       "  </tbody>\n",
       "</table>\n",
       "<p>8 rows × 38 columns</p>\n",
       "</div>"
      ],
      "text/plain": [
       "               eps     duration  years_running  studios_colab  contentWarn  \\\n",
       "count  7098.000000  7098.000000    7098.000000    7098.000000  7098.000000   \n",
       "mean      2.546210    25.080727       0.104959       0.034658     0.095661   \n",
       "std       3.611337    32.016127       0.556363       0.182924     0.294146   \n",
       "min       1.000000     1.000000       0.000000       0.000000     0.000000   \n",
       "25%       1.000000     4.000000       0.000000       0.000000     0.000000   \n",
       "50%       1.000000     9.000000       0.000000       0.000000     0.000000   \n",
       "75%       1.000000    30.000000       0.000000       0.000000     0.000000   \n",
       "max      23.000000   163.000000      20.000000       1.000000     1.000000   \n",
       "\n",
       "             watched      watching     wantWatch      dropped       rating  \\\n",
       "count    7098.000000   7098.000000   7098.000000  7098.000000  7098.000000   \n",
       "mean     1531.826289     42.525923    609.343054    22.749084     2.742419   \n",
       "std      4699.844075    238.987630   1301.861782    72.586285     0.831137   \n",
       "min         0.000000      0.000000      0.000000     0.000000     0.844000   \n",
       "25%        41.000000      1.000000     28.000000     1.000000     2.072000   \n",
       "50%       170.000000      5.000000    136.000000     5.000000     2.707000   \n",
       "75%       914.000000     26.000000    622.000000    17.000000     3.387750   \n",
       "max    115949.000000  15732.000000  21733.000000  2010.000000     4.663000   \n",
       "\n",
       "       ...  tag_Supernatural    tag_Magic  tag_Animal_Protagonists  \\\n",
       "count  ...       7098.000000  7098.000000              7098.000000   \n",
       "mean   ...          0.057904     0.044520                 0.066216   \n",
       "std    ...          0.233578     0.206261                 0.248677   \n",
       "min    ...          0.000000     0.000000                 0.000000   \n",
       "25%    ...          0.000000     0.000000                 0.000000   \n",
       "50%    ...          0.000000     0.000000                 0.000000   \n",
       "75%    ...          0.000000     0.000000                 0.000000   \n",
       "max    ...          1.000000     1.000000                 1.000000   \n",
       "\n",
       "         tag_Ecchi    tag_Mecha  tag_Based_on_a_Light_Novel  tag_CG_Animation  \\\n",
       "count  7098.000000  7098.000000                 7098.000000        7098.00000   \n",
       "mean      0.042265     0.038321                    0.033390           0.05410   \n",
       "std       0.201208     0.191983                    0.179665           0.22623   \n",
       "min       0.000000     0.000000                    0.000000           0.00000   \n",
       "25%       0.000000     0.000000                    0.000000           0.00000   \n",
       "50%       0.000000     0.000000                    0.000000           0.00000   \n",
       "75%       0.000000     0.000000                    0.000000           0.00000   \n",
       "max       1.000000     1.000000                    1.000000           1.00000   \n",
       "\n",
       "       tag_Superpowers   tag_Others  tag_missing  \n",
       "count      7098.000000  7098.000000  7098.000000  \n",
       "mean          0.033671     0.132150     0.039589  \n",
       "std           0.180395     0.338678     0.195004  \n",
       "min           0.000000     0.000000     0.000000  \n",
       "25%           0.000000     0.000000     0.000000  \n",
       "50%           0.000000     0.000000     0.000000  \n",
       "75%           0.000000     0.000000     0.000000  \n",
       "max           1.000000     1.000000     1.000000  \n",
       "\n",
       "[8 rows x 38 columns]"
      ]
     },
     "execution_count": 15,
     "metadata": {},
     "output_type": "execute_result"
    }
   ],
   "source": [
    "dataset[(dataset['eps'] < 24) & (~dataset.duration.isna())].describe()"
   ]
  },
  {
   "cell_type": "code",
   "execution_count": 16,
   "id": "a202fe5c",
   "metadata": {},
   "outputs": [
    {
     "data": {
      "text/html": [
       "<div>\n",
       "<style scoped>\n",
       "    .dataframe tbody tr th:only-of-type {\n",
       "        vertical-align: middle;\n",
       "    }\n",
       "\n",
       "    .dataframe tbody tr th {\n",
       "        vertical-align: top;\n",
       "    }\n",
       "\n",
       "    .dataframe thead th {\n",
       "        text-align: right;\n",
       "    }\n",
       "</style>\n",
       "<table border=\"1\" class=\"dataframe\">\n",
       "  <thead>\n",
       "    <tr style=\"text-align: right;\">\n",
       "      <th></th>\n",
       "      <th>duration</th>\n",
       "      <th>mediaType</th>\n",
       "    </tr>\n",
       "    <tr>\n",
       "      <th>mediaType</th>\n",
       "      <th></th>\n",
       "      <th></th>\n",
       "    </tr>\n",
       "  </thead>\n",
       "  <tbody>\n",
       "    <tr>\n",
       "      <th>DVD Special</th>\n",
       "      <td>10.995798</td>\n",
       "      <td>802</td>\n",
       "    </tr>\n",
       "    <tr>\n",
       "      <th>Movie</th>\n",
       "      <td>57.869213</td>\n",
       "      <td>1928</td>\n",
       "    </tr>\n",
       "    <tr>\n",
       "      <th>Music Video</th>\n",
       "      <td>4.009412</td>\n",
       "      <td>1290</td>\n",
       "    </tr>\n",
       "    <tr>\n",
       "      <th>OVA</th>\n",
       "      <td>32.913809</td>\n",
       "      <td>1769</td>\n",
       "    </tr>\n",
       "    <tr>\n",
       "      <th>Other</th>\n",
       "      <td>7.219378</td>\n",
       "      <td>576</td>\n",
       "    </tr>\n",
       "    <tr>\n",
       "      <th>TV</th>\n",
       "      <td>7.130662</td>\n",
       "      <td>3308</td>\n",
       "    </tr>\n",
       "    <tr>\n",
       "      <th>TV Special</th>\n",
       "      <td>45.795181</td>\n",
       "      <td>504</td>\n",
       "    </tr>\n",
       "    <tr>\n",
       "      <th>Web</th>\n",
       "      <td>7.116523</td>\n",
       "      <td>1152</td>\n",
       "    </tr>\n",
       "    <tr>\n",
       "      <th>is_missing</th>\n",
       "      <td>17.555556</td>\n",
       "      <td>59</td>\n",
       "    </tr>\n",
       "  </tbody>\n",
       "</table>\n",
       "</div>"
      ],
      "text/plain": [
       "              duration  mediaType\n",
       "mediaType                        \n",
       "DVD Special  10.995798        802\n",
       "Movie        57.869213       1928\n",
       "Music Video   4.009412       1290\n",
       "OVA          32.913809       1769\n",
       "Other         7.219378        576\n",
       "TV            7.130662       3308\n",
       "TV Special   45.795181        504\n",
       "Web           7.116523       1152\n",
       "is_missing   17.555556         59"
      ]
     },
     "execution_count": 16,
     "metadata": {},
     "output_type": "execute_result"
    }
   ],
   "source": [
    "dataset_excluding_out.groupby('mediaType').agg({'duration':'mean', 'mediaType':'count'})"
   ]
  },
  {
   "cell_type": "code",
   "execution_count": 17,
   "id": "5a6af249",
   "metadata": {},
   "outputs": [
    {
     "data": {
      "text/plain": [
       "title                            0\n",
       "description                   4468\n",
       "mediaType                        0\n",
       "eps                              0\n",
       "duration                      4636\n",
       "ongoing                          0\n",
       "sznOfRelease                     0\n",
       "years_running                    0\n",
       "studio_primary                   0\n",
       "studios_colab                    0\n",
       "contentWarn                      0\n",
       "watched                          0\n",
       "watching                         0\n",
       "wantWatch                        0\n",
       "dropped                          0\n",
       "rating                           0\n",
       "votes                            0\n",
       "tag_Based_on_a_Manga             0\n",
       "tag_Comedy                       0\n",
       "tag_Action                       0\n",
       "tag_Fantasy                      0\n",
       "tag_Sci_Fi                       0\n",
       "tag_Shounen                      0\n",
       "tag_Original_Work                0\n",
       "tag_Non_Human_Protagonists       0\n",
       "tag_Drama                        0\n",
       "tag_Adventure                    0\n",
       "tag_Family_Friendly              0\n",
       "tag_Short_Episodes               0\n",
       "tag_School_Life                  0\n",
       "tag_Romance                      0\n",
       "tag_Shorts                       0\n",
       "tag_Slice_of_Life                0\n",
       "tag_Seinen                       0\n",
       "tag_Supernatural                 0\n",
       "tag_Magic                        0\n",
       "tag_Animal_Protagonists          0\n",
       "tag_Ecchi                        0\n",
       "tag_Mecha                        0\n",
       "tag_Based_on_a_Light_Novel       0\n",
       "tag_CG_Animation                 0\n",
       "tag_Superpowers                  0\n",
       "tag_Others                       0\n",
       "tag_missing                      0\n",
       "dtype: int64"
      ]
     },
     "execution_count": 17,
     "metadata": {},
     "output_type": "execute_result"
    }
   ],
   "source": [
    "dataset.isna().sum()"
   ]
  },
  {
   "cell_type": "code",
   "execution_count": 18,
   "id": "736f38f6",
   "metadata": {},
   "outputs": [
    {
     "name": "stdout",
     "output_type": "stream",
     "text": [
      "<class 'pandas.core.frame.DataFrame'>\n",
      "RangeIndex: 12101 entries, 0 to 12100\n",
      "Data columns (total 44 columns):\n",
      " #   Column                      Non-Null Count  Dtype  \n",
      "---  ------                      --------------  -----  \n",
      " 0   title                       12101 non-null  object \n",
      " 1   description                 7633 non-null   object \n",
      " 2   mediaType                   12101 non-null  object \n",
      " 3   eps                         12101 non-null  int64  \n",
      " 4   duration                    7465 non-null   float64\n",
      " 5   ongoing                     12101 non-null  bool   \n",
      " 6   sznOfRelease                12101 non-null  object \n",
      " 7   years_running               12101 non-null  int64  \n",
      " 8   studio_primary              12101 non-null  object \n",
      " 9   studios_colab               12101 non-null  int64  \n",
      " 10  contentWarn                 12101 non-null  int64  \n",
      " 11  watched                     12101 non-null  float64\n",
      " 12  watching                    12101 non-null  int64  \n",
      " 13  wantWatch                   12101 non-null  int64  \n",
      " 14  dropped                     12101 non-null  int64  \n",
      " 15  rating                      12101 non-null  float64\n",
      " 16  votes                       12101 non-null  int64  \n",
      " 17  tag_Based_on_a_Manga        12101 non-null  int64  \n",
      " 18  tag_Comedy                  12101 non-null  int64  \n",
      " 19  tag_Action                  12101 non-null  int64  \n",
      " 20  tag_Fantasy                 12101 non-null  int64  \n",
      " 21  tag_Sci_Fi                  12101 non-null  int64  \n",
      " 22  tag_Shounen                 12101 non-null  int64  \n",
      " 23  tag_Original_Work           12101 non-null  int64  \n",
      " 24  tag_Non_Human_Protagonists  12101 non-null  int64  \n",
      " 25  tag_Drama                   12101 non-null  int64  \n",
      " 26  tag_Adventure               12101 non-null  int64  \n",
      " 27  tag_Family_Friendly         12101 non-null  int64  \n",
      " 28  tag_Short_Episodes          12101 non-null  int64  \n",
      " 29  tag_School_Life             12101 non-null  int64  \n",
      " 30  tag_Romance                 12101 non-null  int64  \n",
      " 31  tag_Shorts                  12101 non-null  int64  \n",
      " 32  tag_Slice_of_Life           12101 non-null  int64  \n",
      " 33  tag_Seinen                  12101 non-null  int64  \n",
      " 34  tag_Supernatural            12101 non-null  int64  \n",
      " 35  tag_Magic                   12101 non-null  int64  \n",
      " 36  tag_Animal_Protagonists     12101 non-null  int64  \n",
      " 37  tag_Ecchi                   12101 non-null  int64  \n",
      " 38  tag_Mecha                   12101 non-null  int64  \n",
      " 39  tag_Based_on_a_Light_Novel  12101 non-null  int64  \n",
      " 40  tag_CG_Animation            12101 non-null  int64  \n",
      " 41  tag_Superpowers             12101 non-null  int64  \n",
      " 42  tag_Others                  12101 non-null  int64  \n",
      " 43  tag_missing                 12101 non-null  int64  \n",
      "dtypes: bool(1), float64(3), int64(35), object(5)\n",
      "memory usage: 4.0+ MB\n"
     ]
    }
   ],
   "source": [
    "dataset.info()"
   ]
  },
  {
   "cell_type": "code",
   "execution_count": 19,
   "id": "ac1ecda9",
   "metadata": {},
   "outputs": [
    {
     "data": {
      "text/html": [
       "<div>\n",
       "<style scoped>\n",
       "    .dataframe tbody tr th:only-of-type {\n",
       "        vertical-align: middle;\n",
       "    }\n",
       "\n",
       "    .dataframe tbody tr th {\n",
       "        vertical-align: top;\n",
       "    }\n",
       "\n",
       "    .dataframe thead th {\n",
       "        text-align: right;\n",
       "    }\n",
       "</style>\n",
       "<table border=\"1\" class=\"dataframe\">\n",
       "  <thead>\n",
       "    <tr style=\"text-align: right;\">\n",
       "      <th></th>\n",
       "      <th>count</th>\n",
       "      <th>mean</th>\n",
       "      <th>std</th>\n",
       "      <th>min</th>\n",
       "      <th>25%</th>\n",
       "      <th>50%</th>\n",
       "      <th>75%</th>\n",
       "      <th>max</th>\n",
       "    </tr>\n",
       "  </thead>\n",
       "  <tbody>\n",
       "    <tr>\n",
       "      <th>eps</th>\n",
       "      <td>12101.0</td>\n",
       "      <td>13.393356</td>\n",
       "      <td>57.925097</td>\n",
       "      <td>1.000</td>\n",
       "      <td>1.000</td>\n",
       "      <td>2.000</td>\n",
       "      <td>12.000</td>\n",
       "      <td>2527.000</td>\n",
       "    </tr>\n",
       "    <tr>\n",
       "      <th>duration</th>\n",
       "      <td>7465.0</td>\n",
       "      <td>24.230141</td>\n",
       "      <td>31.468171</td>\n",
       "      <td>1.000</td>\n",
       "      <td>4.000</td>\n",
       "      <td>8.000</td>\n",
       "      <td>30.000</td>\n",
       "      <td>163.000</td>\n",
       "    </tr>\n",
       "    <tr>\n",
       "      <th>years_running</th>\n",
       "      <td>12101.0</td>\n",
       "      <td>0.283200</td>\n",
       "      <td>1.152234</td>\n",
       "      <td>0.000</td>\n",
       "      <td>0.000</td>\n",
       "      <td>0.000</td>\n",
       "      <td>0.000</td>\n",
       "      <td>51.000</td>\n",
       "    </tr>\n",
       "    <tr>\n",
       "      <th>studios_colab</th>\n",
       "      <td>12101.0</td>\n",
       "      <td>0.051649</td>\n",
       "      <td>0.221326</td>\n",
       "      <td>0.000</td>\n",
       "      <td>0.000</td>\n",
       "      <td>0.000</td>\n",
       "      <td>0.000</td>\n",
       "      <td>1.000</td>\n",
       "    </tr>\n",
       "    <tr>\n",
       "      <th>contentWarn</th>\n",
       "      <td>12101.0</td>\n",
       "      <td>0.115362</td>\n",
       "      <td>0.319472</td>\n",
       "      <td>0.000</td>\n",
       "      <td>0.000</td>\n",
       "      <td>0.000</td>\n",
       "      <td>0.000</td>\n",
       "      <td>1.000</td>\n",
       "    </tr>\n",
       "    <tr>\n",
       "      <th>watched</th>\n",
       "      <td>12101.0</td>\n",
       "      <td>2862.605694</td>\n",
       "      <td>7724.347024</td>\n",
       "      <td>0.000</td>\n",
       "      <td>55.000</td>\n",
       "      <td>341.000</td>\n",
       "      <td>2026.000</td>\n",
       "      <td>161567.000</td>\n",
       "    </tr>\n",
       "    <tr>\n",
       "      <th>watching</th>\n",
       "      <td>12101.0</td>\n",
       "      <td>256.334435</td>\n",
       "      <td>1380.840902</td>\n",
       "      <td>0.000</td>\n",
       "      <td>2.000</td>\n",
       "      <td>14.000</td>\n",
       "      <td>100.000</td>\n",
       "      <td>74537.000</td>\n",
       "    </tr>\n",
       "    <tr>\n",
       "      <th>wantWatch</th>\n",
       "      <td>12101.0</td>\n",
       "      <td>1203.681431</td>\n",
       "      <td>2294.327380</td>\n",
       "      <td>0.000</td>\n",
       "      <td>49.000</td>\n",
       "      <td>296.000</td>\n",
       "      <td>1275.000</td>\n",
       "      <td>28541.000</td>\n",
       "    </tr>\n",
       "    <tr>\n",
       "      <th>dropped</th>\n",
       "      <td>12101.0</td>\n",
       "      <td>151.568383</td>\n",
       "      <td>493.931710</td>\n",
       "      <td>0.000</td>\n",
       "      <td>3.000</td>\n",
       "      <td>12.000</td>\n",
       "      <td>65.000</td>\n",
       "      <td>19481.000</td>\n",
       "    </tr>\n",
       "    <tr>\n",
       "      <th>rating</th>\n",
       "      <td>12101.0</td>\n",
       "      <td>2.949037</td>\n",
       "      <td>0.827385</td>\n",
       "      <td>0.844</td>\n",
       "      <td>2.304</td>\n",
       "      <td>2.965</td>\n",
       "      <td>3.616</td>\n",
       "      <td>4.702</td>\n",
       "    </tr>\n",
       "    <tr>\n",
       "      <th>votes</th>\n",
       "      <td>12101.0</td>\n",
       "      <td>2088.124700</td>\n",
       "      <td>5950.332228</td>\n",
       "      <td>10.000</td>\n",
       "      <td>34.000</td>\n",
       "      <td>219.000</td>\n",
       "      <td>1414.000</td>\n",
       "      <td>131067.000</td>\n",
       "    </tr>\n",
       "    <tr>\n",
       "      <th>tag_Based_on_a_Manga</th>\n",
       "      <td>12101.0</td>\n",
       "      <td>0.290802</td>\n",
       "      <td>0.454151</td>\n",
       "      <td>0.000</td>\n",
       "      <td>0.000</td>\n",
       "      <td>0.000</td>\n",
       "      <td>1.000</td>\n",
       "      <td>1.000</td>\n",
       "    </tr>\n",
       "    <tr>\n",
       "      <th>tag_Comedy</th>\n",
       "      <td>12101.0</td>\n",
       "      <td>0.272870</td>\n",
       "      <td>0.445453</td>\n",
       "      <td>0.000</td>\n",
       "      <td>0.000</td>\n",
       "      <td>0.000</td>\n",
       "      <td>1.000</td>\n",
       "      <td>1.000</td>\n",
       "    </tr>\n",
       "    <tr>\n",
       "      <th>tag_Action</th>\n",
       "      <td>12101.0</td>\n",
       "      <td>0.231221</td>\n",
       "      <td>0.421631</td>\n",
       "      <td>0.000</td>\n",
       "      <td>0.000</td>\n",
       "      <td>0.000</td>\n",
       "      <td>0.000</td>\n",
       "      <td>1.000</td>\n",
       "    </tr>\n",
       "    <tr>\n",
       "      <th>tag_Fantasy</th>\n",
       "      <td>12101.0</td>\n",
       "      <td>0.181555</td>\n",
       "      <td>0.385493</td>\n",
       "      <td>0.000</td>\n",
       "      <td>0.000</td>\n",
       "      <td>0.000</td>\n",
       "      <td>0.000</td>\n",
       "      <td>1.000</td>\n",
       "    </tr>\n",
       "    <tr>\n",
       "      <th>tag_Sci_Fi</th>\n",
       "      <td>12101.0</td>\n",
       "      <td>0.166267</td>\n",
       "      <td>0.372336</td>\n",
       "      <td>0.000</td>\n",
       "      <td>0.000</td>\n",
       "      <td>0.000</td>\n",
       "      <td>0.000</td>\n",
       "      <td>1.000</td>\n",
       "    </tr>\n",
       "    <tr>\n",
       "      <th>tag_Shounen</th>\n",
       "      <td>12101.0</td>\n",
       "      <td>0.144864</td>\n",
       "      <td>0.351978</td>\n",
       "      <td>0.000</td>\n",
       "      <td>0.000</td>\n",
       "      <td>0.000</td>\n",
       "      <td>0.000</td>\n",
       "      <td>1.000</td>\n",
       "    </tr>\n",
       "    <tr>\n",
       "      <th>tag_Original_Work</th>\n",
       "      <td>12101.0</td>\n",
       "      <td>0.135195</td>\n",
       "      <td>0.341946</td>\n",
       "      <td>0.000</td>\n",
       "      <td>0.000</td>\n",
       "      <td>0.000</td>\n",
       "      <td>0.000</td>\n",
       "      <td>1.000</td>\n",
       "    </tr>\n",
       "    <tr>\n",
       "      <th>tag_Non_Human_Protagonists</th>\n",
       "      <td>12101.0</td>\n",
       "      <td>0.112470</td>\n",
       "      <td>0.315957</td>\n",
       "      <td>0.000</td>\n",
       "      <td>0.000</td>\n",
       "      <td>0.000</td>\n",
       "      <td>0.000</td>\n",
       "      <td>1.000</td>\n",
       "    </tr>\n",
       "    <tr>\n",
       "      <th>tag_Drama</th>\n",
       "      <td>12101.0</td>\n",
       "      <td>0.106107</td>\n",
       "      <td>0.307987</td>\n",
       "      <td>0.000</td>\n",
       "      <td>0.000</td>\n",
       "      <td>0.000</td>\n",
       "      <td>0.000</td>\n",
       "      <td>1.000</td>\n",
       "    </tr>\n",
       "    <tr>\n",
       "      <th>tag_Adventure</th>\n",
       "      <td>12101.0</td>\n",
       "      <td>0.103793</td>\n",
       "      <td>0.305005</td>\n",
       "      <td>0.000</td>\n",
       "      <td>0.000</td>\n",
       "      <td>0.000</td>\n",
       "      <td>0.000</td>\n",
       "      <td>1.000</td>\n",
       "    </tr>\n",
       "    <tr>\n",
       "      <th>tag_Family_Friendly</th>\n",
       "      <td>12101.0</td>\n",
       "      <td>0.097017</td>\n",
       "      <td>0.295993</td>\n",
       "      <td>0.000</td>\n",
       "      <td>0.000</td>\n",
       "      <td>0.000</td>\n",
       "      <td>0.000</td>\n",
       "      <td>1.000</td>\n",
       "    </tr>\n",
       "    <tr>\n",
       "      <th>tag_Short_Episodes</th>\n",
       "      <td>12101.0</td>\n",
       "      <td>0.096934</td>\n",
       "      <td>0.295880</td>\n",
       "      <td>0.000</td>\n",
       "      <td>0.000</td>\n",
       "      <td>0.000</td>\n",
       "      <td>0.000</td>\n",
       "      <td>1.000</td>\n",
       "    </tr>\n",
       "    <tr>\n",
       "      <th>tag_School_Life</th>\n",
       "      <td>12101.0</td>\n",
       "      <td>0.092306</td>\n",
       "      <td>0.289470</td>\n",
       "      <td>0.000</td>\n",
       "      <td>0.000</td>\n",
       "      <td>0.000</td>\n",
       "      <td>0.000</td>\n",
       "      <td>1.000</td>\n",
       "    </tr>\n",
       "    <tr>\n",
       "      <th>tag_Romance</th>\n",
       "      <td>12101.0</td>\n",
       "      <td>0.092141</td>\n",
       "      <td>0.289237</td>\n",
       "      <td>0.000</td>\n",
       "      <td>0.000</td>\n",
       "      <td>0.000</td>\n",
       "      <td>0.000</td>\n",
       "      <td>1.000</td>\n",
       "    </tr>\n",
       "    <tr>\n",
       "      <th>tag_Shorts</th>\n",
       "      <td>12101.0</td>\n",
       "      <td>0.089662</td>\n",
       "      <td>0.285709</td>\n",
       "      <td>0.000</td>\n",
       "      <td>0.000</td>\n",
       "      <td>0.000</td>\n",
       "      <td>0.000</td>\n",
       "      <td>1.000</td>\n",
       "    </tr>\n",
       "    <tr>\n",
       "      <th>tag_Slice_of_Life</th>\n",
       "      <td>12101.0</td>\n",
       "      <td>0.080820</td>\n",
       "      <td>0.272569</td>\n",
       "      <td>0.000</td>\n",
       "      <td>0.000</td>\n",
       "      <td>0.000</td>\n",
       "      <td>0.000</td>\n",
       "      <td>1.000</td>\n",
       "    </tr>\n",
       "    <tr>\n",
       "      <th>tag_Seinen</th>\n",
       "      <td>12101.0</td>\n",
       "      <td>0.077101</td>\n",
       "      <td>0.266763</td>\n",
       "      <td>0.000</td>\n",
       "      <td>0.000</td>\n",
       "      <td>0.000</td>\n",
       "      <td>0.000</td>\n",
       "      <td>1.000</td>\n",
       "    </tr>\n",
       "    <tr>\n",
       "      <th>tag_Supernatural</th>\n",
       "      <td>12101.0</td>\n",
       "      <td>0.070903</td>\n",
       "      <td>0.256674</td>\n",
       "      <td>0.000</td>\n",
       "      <td>0.000</td>\n",
       "      <td>0.000</td>\n",
       "      <td>0.000</td>\n",
       "      <td>1.000</td>\n",
       "    </tr>\n",
       "    <tr>\n",
       "      <th>tag_Magic</th>\n",
       "      <td>12101.0</td>\n",
       "      <td>0.064292</td>\n",
       "      <td>0.245283</td>\n",
       "      <td>0.000</td>\n",
       "      <td>0.000</td>\n",
       "      <td>0.000</td>\n",
       "      <td>0.000</td>\n",
       "      <td>1.000</td>\n",
       "    </tr>\n",
       "    <tr>\n",
       "      <th>tag_Animal_Protagonists</th>\n",
       "      <td>12101.0</td>\n",
       "      <td>0.060326</td>\n",
       "      <td>0.238099</td>\n",
       "      <td>0.000</td>\n",
       "      <td>0.000</td>\n",
       "      <td>0.000</td>\n",
       "      <td>0.000</td>\n",
       "      <td>1.000</td>\n",
       "    </tr>\n",
       "    <tr>\n",
       "      <th>tag_Ecchi</th>\n",
       "      <td>12101.0</td>\n",
       "      <td>0.057433</td>\n",
       "      <td>0.232678</td>\n",
       "      <td>0.000</td>\n",
       "      <td>0.000</td>\n",
       "      <td>0.000</td>\n",
       "      <td>0.000</td>\n",
       "      <td>1.000</td>\n",
       "    </tr>\n",
       "    <tr>\n",
       "      <th>tag_Mecha</th>\n",
       "      <td>12101.0</td>\n",
       "      <td>0.054541</td>\n",
       "      <td>0.227091</td>\n",
       "      <td>0.000</td>\n",
       "      <td>0.000</td>\n",
       "      <td>0.000</td>\n",
       "      <td>0.000</td>\n",
       "      <td>1.000</td>\n",
       "    </tr>\n",
       "    <tr>\n",
       "      <th>tag_Based_on_a_Light_Novel</th>\n",
       "      <td>12101.0</td>\n",
       "      <td>0.053384</td>\n",
       "      <td>0.224807</td>\n",
       "      <td>0.000</td>\n",
       "      <td>0.000</td>\n",
       "      <td>0.000</td>\n",
       "      <td>0.000</td>\n",
       "      <td>1.000</td>\n",
       "    </tr>\n",
       "    <tr>\n",
       "      <th>tag_CG_Animation</th>\n",
       "      <td>12101.0</td>\n",
       "      <td>0.050079</td>\n",
       "      <td>0.218116</td>\n",
       "      <td>0.000</td>\n",
       "      <td>0.000</td>\n",
       "      <td>0.000</td>\n",
       "      <td>0.000</td>\n",
       "      <td>1.000</td>\n",
       "    </tr>\n",
       "    <tr>\n",
       "      <th>tag_Superpowers</th>\n",
       "      <td>12101.0</td>\n",
       "      <td>0.044624</td>\n",
       "      <td>0.206486</td>\n",
       "      <td>0.000</td>\n",
       "      <td>0.000</td>\n",
       "      <td>0.000</td>\n",
       "      <td>0.000</td>\n",
       "      <td>1.000</td>\n",
       "    </tr>\n",
       "    <tr>\n",
       "      <th>tag_Others</th>\n",
       "      <td>12101.0</td>\n",
       "      <td>0.090654</td>\n",
       "      <td>0.287128</td>\n",
       "      <td>0.000</td>\n",
       "      <td>0.000</td>\n",
       "      <td>0.000</td>\n",
       "      <td>0.000</td>\n",
       "      <td>1.000</td>\n",
       "    </tr>\n",
       "    <tr>\n",
       "      <th>tag_missing</th>\n",
       "      <td>12101.0</td>\n",
       "      <td>0.025866</td>\n",
       "      <td>0.158741</td>\n",
       "      <td>0.000</td>\n",
       "      <td>0.000</td>\n",
       "      <td>0.000</td>\n",
       "      <td>0.000</td>\n",
       "      <td>1.000</td>\n",
       "    </tr>\n",
       "  </tbody>\n",
       "</table>\n",
       "</div>"
      ],
      "text/plain": [
       "                              count         mean          std     min     25%  \\\n",
       "eps                         12101.0    13.393356    57.925097   1.000   1.000   \n",
       "duration                     7465.0    24.230141    31.468171   1.000   4.000   \n",
       "years_running               12101.0     0.283200     1.152234   0.000   0.000   \n",
       "studios_colab               12101.0     0.051649     0.221326   0.000   0.000   \n",
       "contentWarn                 12101.0     0.115362     0.319472   0.000   0.000   \n",
       "watched                     12101.0  2862.605694  7724.347024   0.000  55.000   \n",
       "watching                    12101.0   256.334435  1380.840902   0.000   2.000   \n",
       "wantWatch                   12101.0  1203.681431  2294.327380   0.000  49.000   \n",
       "dropped                     12101.0   151.568383   493.931710   0.000   3.000   \n",
       "rating                      12101.0     2.949037     0.827385   0.844   2.304   \n",
       "votes                       12101.0  2088.124700  5950.332228  10.000  34.000   \n",
       "tag_Based_on_a_Manga        12101.0     0.290802     0.454151   0.000   0.000   \n",
       "tag_Comedy                  12101.0     0.272870     0.445453   0.000   0.000   \n",
       "tag_Action                  12101.0     0.231221     0.421631   0.000   0.000   \n",
       "tag_Fantasy                 12101.0     0.181555     0.385493   0.000   0.000   \n",
       "tag_Sci_Fi                  12101.0     0.166267     0.372336   0.000   0.000   \n",
       "tag_Shounen                 12101.0     0.144864     0.351978   0.000   0.000   \n",
       "tag_Original_Work           12101.0     0.135195     0.341946   0.000   0.000   \n",
       "tag_Non_Human_Protagonists  12101.0     0.112470     0.315957   0.000   0.000   \n",
       "tag_Drama                   12101.0     0.106107     0.307987   0.000   0.000   \n",
       "tag_Adventure               12101.0     0.103793     0.305005   0.000   0.000   \n",
       "tag_Family_Friendly         12101.0     0.097017     0.295993   0.000   0.000   \n",
       "tag_Short_Episodes          12101.0     0.096934     0.295880   0.000   0.000   \n",
       "tag_School_Life             12101.0     0.092306     0.289470   0.000   0.000   \n",
       "tag_Romance                 12101.0     0.092141     0.289237   0.000   0.000   \n",
       "tag_Shorts                  12101.0     0.089662     0.285709   0.000   0.000   \n",
       "tag_Slice_of_Life           12101.0     0.080820     0.272569   0.000   0.000   \n",
       "tag_Seinen                  12101.0     0.077101     0.266763   0.000   0.000   \n",
       "tag_Supernatural            12101.0     0.070903     0.256674   0.000   0.000   \n",
       "tag_Magic                   12101.0     0.064292     0.245283   0.000   0.000   \n",
       "tag_Animal_Protagonists     12101.0     0.060326     0.238099   0.000   0.000   \n",
       "tag_Ecchi                   12101.0     0.057433     0.232678   0.000   0.000   \n",
       "tag_Mecha                   12101.0     0.054541     0.227091   0.000   0.000   \n",
       "tag_Based_on_a_Light_Novel  12101.0     0.053384     0.224807   0.000   0.000   \n",
       "tag_CG_Animation            12101.0     0.050079     0.218116   0.000   0.000   \n",
       "tag_Superpowers             12101.0     0.044624     0.206486   0.000   0.000   \n",
       "tag_Others                  12101.0     0.090654     0.287128   0.000   0.000   \n",
       "tag_missing                 12101.0     0.025866     0.158741   0.000   0.000   \n",
       "\n",
       "                                50%       75%         max  \n",
       "eps                           2.000    12.000    2527.000  \n",
       "duration                      8.000    30.000     163.000  \n",
       "years_running                 0.000     0.000      51.000  \n",
       "studios_colab                 0.000     0.000       1.000  \n",
       "contentWarn                   0.000     0.000       1.000  \n",
       "watched                     341.000  2026.000  161567.000  \n",
       "watching                     14.000   100.000   74537.000  \n",
       "wantWatch                   296.000  1275.000   28541.000  \n",
       "dropped                      12.000    65.000   19481.000  \n",
       "rating                        2.965     3.616       4.702  \n",
       "votes                       219.000  1414.000  131067.000  \n",
       "tag_Based_on_a_Manga          0.000     1.000       1.000  \n",
       "tag_Comedy                    0.000     1.000       1.000  \n",
       "tag_Action                    0.000     0.000       1.000  \n",
       "tag_Fantasy                   0.000     0.000       1.000  \n",
       "tag_Sci_Fi                    0.000     0.000       1.000  \n",
       "tag_Shounen                   0.000     0.000       1.000  \n",
       "tag_Original_Work             0.000     0.000       1.000  \n",
       "tag_Non_Human_Protagonists    0.000     0.000       1.000  \n",
       "tag_Drama                     0.000     0.000       1.000  \n",
       "tag_Adventure                 0.000     0.000       1.000  \n",
       "tag_Family_Friendly           0.000     0.000       1.000  \n",
       "tag_Short_Episodes            0.000     0.000       1.000  \n",
       "tag_School_Life               0.000     0.000       1.000  \n",
       "tag_Romance                   0.000     0.000       1.000  \n",
       "tag_Shorts                    0.000     0.000       1.000  \n",
       "tag_Slice_of_Life             0.000     0.000       1.000  \n",
       "tag_Seinen                    0.000     0.000       1.000  \n",
       "tag_Supernatural              0.000     0.000       1.000  \n",
       "tag_Magic                     0.000     0.000       1.000  \n",
       "tag_Animal_Protagonists       0.000     0.000       1.000  \n",
       "tag_Ecchi                     0.000     0.000       1.000  \n",
       "tag_Mecha                     0.000     0.000       1.000  \n",
       "tag_Based_on_a_Light_Novel    0.000     0.000       1.000  \n",
       "tag_CG_Animation              0.000     0.000       1.000  \n",
       "tag_Superpowers               0.000     0.000       1.000  \n",
       "tag_Others                    0.000     0.000       1.000  \n",
       "tag_missing                   0.000     0.000       1.000  "
      ]
     },
     "execution_count": 19,
     "metadata": {},
     "output_type": "execute_result"
    }
   ],
   "source": [
    "dataset.describe().T"
   ]
  },
  {
   "cell_type": "code",
   "execution_count": 20,
   "id": "7dd04dca",
   "metadata": {},
   "outputs": [],
   "source": [
    "dataset.drop(columns = ['title', 'description'], axis=1, inplace=True)"
   ]
  },
  {
   "cell_type": "code",
   "execution_count": 21,
   "id": "b33b15ba",
   "metadata": {},
   "outputs": [
    {
     "data": {
      "text/html": [
       "<div>\n",
       "<style scoped>\n",
       "    .dataframe tbody tr th:only-of-type {\n",
       "        vertical-align: middle;\n",
       "    }\n",
       "\n",
       "    .dataframe tbody tr th {\n",
       "        vertical-align: top;\n",
       "    }\n",
       "\n",
       "    .dataframe thead th {\n",
       "        text-align: right;\n",
       "    }\n",
       "</style>\n",
       "<table border=\"1\" class=\"dataframe\">\n",
       "  <thead>\n",
       "    <tr style=\"text-align: right;\">\n",
       "      <th></th>\n",
       "      <th>mediaType</th>\n",
       "      <th>eps</th>\n",
       "      <th>duration</th>\n",
       "      <th>ongoing</th>\n",
       "      <th>sznOfRelease</th>\n",
       "      <th>years_running</th>\n",
       "      <th>studio_primary</th>\n",
       "      <th>studios_colab</th>\n",
       "      <th>contentWarn</th>\n",
       "      <th>watched</th>\n",
       "      <th>...</th>\n",
       "      <th>tag_Supernatural</th>\n",
       "      <th>tag_Magic</th>\n",
       "      <th>tag_Animal_Protagonists</th>\n",
       "      <th>tag_Ecchi</th>\n",
       "      <th>tag_Mecha</th>\n",
       "      <th>tag_Based_on_a_Light_Novel</th>\n",
       "      <th>tag_CG_Animation</th>\n",
       "      <th>tag_Superpowers</th>\n",
       "      <th>tag_Others</th>\n",
       "      <th>tag_missing</th>\n",
       "    </tr>\n",
       "  </thead>\n",
       "  <tbody>\n",
       "    <tr>\n",
       "      <th>0</th>\n",
       "      <td>TV</td>\n",
       "      <td>64</td>\n",
       "      <td>NaN</td>\n",
       "      <td>False</td>\n",
       "      <td>Spring</td>\n",
       "      <td>1</td>\n",
       "      <td>Bones</td>\n",
       "      <td>0</td>\n",
       "      <td>1</td>\n",
       "      <td>103707.0</td>\n",
       "      <td>...</td>\n",
       "      <td>0</td>\n",
       "      <td>0</td>\n",
       "      <td>0</td>\n",
       "      <td>0</td>\n",
       "      <td>0</td>\n",
       "      <td>0</td>\n",
       "      <td>0</td>\n",
       "      <td>0</td>\n",
       "      <td>0</td>\n",
       "      <td>0</td>\n",
       "    </tr>\n",
       "    <tr>\n",
       "      <th>1</th>\n",
       "      <td>Movie</td>\n",
       "      <td>1</td>\n",
       "      <td>107.0</td>\n",
       "      <td>False</td>\n",
       "      <td>is_missing</td>\n",
       "      <td>0</td>\n",
       "      <td>Others</td>\n",
       "      <td>0</td>\n",
       "      <td>0</td>\n",
       "      <td>58831.0</td>\n",
       "      <td>...</td>\n",
       "      <td>1</td>\n",
       "      <td>0</td>\n",
       "      <td>0</td>\n",
       "      <td>0</td>\n",
       "      <td>0</td>\n",
       "      <td>0</td>\n",
       "      <td>0</td>\n",
       "      <td>0</td>\n",
       "      <td>0</td>\n",
       "      <td>0</td>\n",
       "    </tr>\n",
       "    <tr>\n",
       "      <th>2</th>\n",
       "      <td>Movie</td>\n",
       "      <td>1</td>\n",
       "      <td>130.0</td>\n",
       "      <td>False</td>\n",
       "      <td>is_missing</td>\n",
       "      <td>0</td>\n",
       "      <td>Kyoto Animation</td>\n",
       "      <td>0</td>\n",
       "      <td>1</td>\n",
       "      <td>45892.0</td>\n",
       "      <td>...</td>\n",
       "      <td>0</td>\n",
       "      <td>0</td>\n",
       "      <td>0</td>\n",
       "      <td>0</td>\n",
       "      <td>0</td>\n",
       "      <td>0</td>\n",
       "      <td>0</td>\n",
       "      <td>0</td>\n",
       "      <td>0</td>\n",
       "      <td>0</td>\n",
       "    </tr>\n",
       "    <tr>\n",
       "      <th>3</th>\n",
       "      <td>TV</td>\n",
       "      <td>10</td>\n",
       "      <td>NaN</td>\n",
       "      <td>False</td>\n",
       "      <td>Fall</td>\n",
       "      <td>0</td>\n",
       "      <td>Production I.G</td>\n",
       "      <td>0</td>\n",
       "      <td>0</td>\n",
       "      <td>25134.0</td>\n",
       "      <td>...</td>\n",
       "      <td>0</td>\n",
       "      <td>0</td>\n",
       "      <td>0</td>\n",
       "      <td>0</td>\n",
       "      <td>0</td>\n",
       "      <td>0</td>\n",
       "      <td>0</td>\n",
       "      <td>0</td>\n",
       "      <td>0</td>\n",
       "      <td>0</td>\n",
       "    </tr>\n",
       "    <tr>\n",
       "      <th>4</th>\n",
       "      <td>TV</td>\n",
       "      <td>10</td>\n",
       "      <td>NaN</td>\n",
       "      <td>False</td>\n",
       "      <td>Spring</td>\n",
       "      <td>0</td>\n",
       "      <td>Others</td>\n",
       "      <td>0</td>\n",
       "      <td>1</td>\n",
       "      <td>21308.0</td>\n",
       "      <td>...</td>\n",
       "      <td>0</td>\n",
       "      <td>0</td>\n",
       "      <td>0</td>\n",
       "      <td>0</td>\n",
       "      <td>0</td>\n",
       "      <td>0</td>\n",
       "      <td>0</td>\n",
       "      <td>0</td>\n",
       "      <td>0</td>\n",
       "      <td>0</td>\n",
       "    </tr>\n",
       "  </tbody>\n",
       "</table>\n",
       "<p>5 rows × 42 columns</p>\n",
       "</div>"
      ],
      "text/plain": [
       "  mediaType  eps  duration  ongoing sznOfRelease  years_running  \\\n",
       "0        TV   64       NaN    False       Spring              1   \n",
       "1     Movie    1     107.0    False   is_missing              0   \n",
       "2     Movie    1     130.0    False   is_missing              0   \n",
       "3        TV   10       NaN    False         Fall              0   \n",
       "4        TV   10       NaN    False       Spring              0   \n",
       "\n",
       "    studio_primary  studios_colab  contentWarn   watched  ...  \\\n",
       "0            Bones              0            1  103707.0  ...   \n",
       "1           Others              0            0   58831.0  ...   \n",
       "2  Kyoto Animation              0            1   45892.0  ...   \n",
       "3   Production I.G              0            0   25134.0  ...   \n",
       "4           Others              0            1   21308.0  ...   \n",
       "\n",
       "   tag_Supernatural  tag_Magic  tag_Animal_Protagonists  tag_Ecchi  tag_Mecha  \\\n",
       "0                 0          0                        0          0          0   \n",
       "1                 1          0                        0          0          0   \n",
       "2                 0          0                        0          0          0   \n",
       "3                 0          0                        0          0          0   \n",
       "4                 0          0                        0          0          0   \n",
       "\n",
       "   tag_Based_on_a_Light_Novel  tag_CG_Animation  tag_Superpowers  tag_Others  \\\n",
       "0                           0                 0                0           0   \n",
       "1                           0                 0                0           0   \n",
       "2                           0                 0                0           0   \n",
       "3                           0                 0                0           0   \n",
       "4                           0                 0                0           0   \n",
       "\n",
       "   tag_missing  \n",
       "0            0  \n",
       "1            0  \n",
       "2            0  \n",
       "3            0  \n",
       "4            0  \n",
       "\n",
       "[5 rows x 42 columns]"
      ]
     },
     "execution_count": 21,
     "metadata": {},
     "output_type": "execute_result"
    }
   ],
   "source": [
    "dataset.head()"
   ]
  },
  {
   "cell_type": "code",
   "execution_count": 22,
   "id": "cf5b4488",
   "metadata": {},
   "outputs": [
    {
     "data": {
      "text/plain": [
       "count    12101.000000\n",
       "mean         2.949037\n",
       "std          0.827385\n",
       "min          0.844000\n",
       "25%          2.304000\n",
       "50%          2.965000\n",
       "75%          3.616000\n",
       "max          4.702000\n",
       "Name: rating, dtype: float64"
      ]
     },
     "execution_count": 22,
     "metadata": {},
     "output_type": "execute_result"
    }
   ],
   "source": [
    "dataset.rating.describe()"
   ]
  },
  {
   "cell_type": "code",
   "execution_count": 23,
   "id": "fa5aa16f",
   "metadata": {},
   "outputs": [
    {
     "data": {
      "text/plain": [
       "(7465, 42)"
      ]
     },
     "execution_count": 23,
     "metadata": {},
     "output_type": "execute_result"
    }
   ],
   "source": [
    "dataset.dropna(inplace=True)\n",
    "dataset.shape"
   ]
  },
  {
   "cell_type": "code",
   "execution_count": 24,
   "id": "e6d1a5f2",
   "metadata": {},
   "outputs": [
    {
     "data": {
      "text/plain": [
       "4535"
      ]
     },
     "execution_count": 24,
     "metadata": {},
     "output_type": "execute_result"
    }
   ],
   "source": [
    "12000-7465"
   ]
  },
  {
   "cell_type": "code",
   "execution_count": 25,
   "id": "9f4c06dc",
   "metadata": {},
   "outputs": [],
   "source": [
    "def continuos_univariate_analysis(data,\n",
    "                                  feature,\n",
    "                                  figsize=(12, 8),\n",
    "                                  kde=False,\n",
    "                                  bins=None):\n",
    "    f1, (ax_box,\n",
    "         ax_hist) = plt.subplots(nrows=2,\n",
    "                                 sharex=True,\n",
    "                                 gridspec_kw={'height_ratios': (0.25, 0.75)},\n",
    "                                 figsize=figsize)\n",
    "    sns.color_palette(\"viridis\", as_cmap=True)\n",
    "    sns.boxplot(data=data,\n",
    "                x=feature,\n",
    "                ax=ax_box,\n",
    "                showmeans=True,\n",
    "                color='yellow')\n",
    "    sns.histplot(data=data,\n",
    "                 x=feature,\n",
    "                 ax=ax_hist,\n",
    "                 showmeans=True,\n",
    "                 color='crest',\n",
    "                 bins=bins,\n",
    "                 kde=kde) if bins else sns.histplot(\n",
    "                     data=data, x=feature, ax=ax_hist, kde=kde, color='blue')\n",
    "    ax_hist.axvline(data[feature].mean(), color='cyan', linestyle='--')\n",
    "    ax_hist.axvline(data[feature].median(), color='orange', linestyle=\"-\")"
   ]
  },
  {
   "cell_type": "code",
   "execution_count": 26,
   "id": "6e9e340c",
   "metadata": {},
   "outputs": [],
   "source": [
    "def discrete_univariate_analysis(data, feature, perc=False, n=None):\n",
    "    total = len(data[feature])\n",
    "    count = data[feature].nunique()\n",
    "    if n is None:\n",
    "        plt.figure(figsize=(count + 1, 5))\n",
    "    else:\n",
    "        plt.figure(figsize=(n + 1, 5))\n",
    "    plt.xticks(rotation=90, fontsize=15)\n",
    "    ax = sns.countplot(\n",
    "        data=data,\n",
    "        x=feature,\n",
    "        palette=\"flare\",\n",
    "        order=data[feature].value_counts().index[:n].sort_values(\n",
    "            ascending=False))\n",
    "    for p in ax.patches:\n",
    "        if perc == True:\n",
    "            label = \"{:.1f}%\".format(100 * p.get_height() / total)\n",
    "        else:\n",
    "            label = p.get_height()\n",
    "        x = p.get_x() + p.get_width() / 2\n",
    "        y = p.get_height()\n",
    "        ax.annotate(label, (x, y),\n",
    "                    ha=\"center\",\n",
    "                    va=\"center\",\n",
    "                    size=12,\n",
    "                    xytext=(0, 5),\n",
    "                    textcoords=\"offset points\")\n",
    "    plt.show()"
   ]
  },
  {
   "cell_type": "code",
   "execution_count": 27,
   "id": "0e95a21c",
   "metadata": {},
   "outputs": [
    {
     "data": {
      "text/plain": [
       "Index(['mediaType', 'eps', 'duration', 'ongoing', 'sznOfRelease',\n",
       "       'years_running', 'studio_primary', 'studios_colab', 'contentWarn',\n",
       "       'watched', 'watching', 'wantWatch', 'dropped', 'rating', 'votes',\n",
       "       'tag_Based_on_a_Manga', 'tag_Comedy', 'tag_Action', 'tag_Fantasy',\n",
       "       'tag_Sci_Fi', 'tag_Shounen', 'tag_Original_Work',\n",
       "       'tag_Non_Human_Protagonists', 'tag_Drama', 'tag_Adventure',\n",
       "       'tag_Family_Friendly', 'tag_Short_Episodes', 'tag_School_Life',\n",
       "       'tag_Romance', 'tag_Shorts', 'tag_Slice_of_Life', 'tag_Seinen',\n",
       "       'tag_Supernatural', 'tag_Magic', 'tag_Animal_Protagonists', 'tag_Ecchi',\n",
       "       'tag_Mecha', 'tag_Based_on_a_Light_Novel', 'tag_CG_Animation',\n",
       "       'tag_Superpowers', 'tag_Others', 'tag_missing'],\n",
       "      dtype='object')"
      ]
     },
     "execution_count": 27,
     "metadata": {},
     "output_type": "execute_result"
    }
   ],
   "source": [
    "dataset.columns"
   ]
  },
  {
   "cell_type": "code",
   "execution_count": 28,
   "id": "971df34f",
   "metadata": {},
   "outputs": [
    {
     "data": {
      "image/png": "[encoded data removed]",
      "text/plain": [
       "<Figure size 1200x800 with 2 Axes>"
      ]
     },
     "metadata": {},
     "output_type": "display_data"
    }
   ],
   "source": [
    "continuos_univariate_analysis(dataset, 'rating')"
   ]
  },
  {
   "cell_type": "code",
   "execution_count": 29,
   "id": "b31962ec",
   "metadata": {},
   "outputs": [
    {
     "data": {
      "image/png": "[encoded data removed]",
      "text/plain": [
       "<Figure size 1200x800 with 2 Axes>"
      ]
     },
     "metadata": {},
     "output_type": "display_data"
    }
   ],
   "source": [
    "continuos_univariate_analysis(dataset, 'duration')"
   ]
  },
  {
   "cell_type": "code",
   "execution_count": 31,
   "id": "a4231116",
   "metadata": {},
   "outputs": [
    {
     "data": {
      "text/plain": [
       "3.5694732254047326"
      ]
     },
     "execution_count": 31,
     "metadata": {},
     "output_type": "execute_result"
    }
   ],
   "source": [
    "dataset[dataset['duration'] >=80]['rating'].mean()"
   ]
  },
  {
   "cell_type": "code",
   "execution_count": 32,
   "id": "e6014d82",
   "metadata": {},
   "outputs": [
    {
     "data": {
      "text/plain": [
       "3.729269121813031"
      ]
     },
     "execution_count": 32,
     "metadata": {},
     "output_type": "execute_result"
    }
   ],
   "source": [
    "dataset[dataset['duration'] >=100]['rating'].mean()"
   ]
  },
  {
   "cell_type": "code",
   "execution_count": 33,
   "id": "08957a15",
   "metadata": {},
   "outputs": [
    {
     "data": {
      "text/plain": [
       "3.7585191256830606"
      ]
     },
     "execution_count": 33,
     "metadata": {},
     "output_type": "execute_result"
    }
   ],
   "source": [
    "dataset[dataset['duration'] >=110]['rating'].mean()"
   ]
  },
  {
   "cell_type": "code",
   "execution_count": 34,
   "id": "0702e96f",
   "metadata": {},
   "outputs": [
    {
     "data": {
      "text/plain": [
       "2.7890469755469756"
      ]
     },
     "execution_count": 34,
     "metadata": {},
     "output_type": "execute_result"
    }
   ],
   "source": [
    "dataset[(dataset['duration'] >=5) & (dataset['duration']<=30)]['rating'].mean()"
   ]
  },
  {
   "cell_type": "code",
   "execution_count": 35,
   "id": "091e740e",
   "metadata": {},
   "outputs": [],
   "source": [
    "dataset['Duration_category'] = pd.cut(dataset['duration'], bins = [0,20,40, 60, 80, 200],\\\n",
    "                                 labels = ['0-20', '20-40', '40-60', '60-80', '>80'])"
   ]
  },
  {
   "cell_type": "code",
   "execution_count": 36,
   "id": "a62ebe35",
   "metadata": {},
   "outputs": [],
   "source": [
    "exp = dataset.groupby(['mediaType', 'Duration_category']).agg({'rating' : ['mean']}).reset_index()"
   ]
  },
  {
   "cell_type": "code",
   "execution_count": 37,
   "id": "1dd98c21",
   "metadata": {},
   "outputs": [],
   "source": [
    "exp.columns = exp.columns.droplevel(0)"
   ]
  },
  {
   "cell_type": "code",
   "execution_count": 38,
   "id": "71e774d0",
   "metadata": {},
   "outputs": [],
   "source": [
    "exp.columns = ['Mediatype', 'duration', 'rating']"
   ]
  },
  {
   "cell_type": "code",
   "execution_count": 39,
   "id": "c1bfed61",
   "metadata": {},
   "outputs": [
    {
     "data": {
      "text/html": [
       "<div>\n",
       "<style scoped>\n",
       "    .dataframe tbody tr th:only-of-type {\n",
       "        vertical-align: middle;\n",
       "    }\n",
       "\n",
       "    .dataframe tbody tr th {\n",
       "        vertical-align: top;\n",
       "    }\n",
       "\n",
       "    .dataframe thead th {\n",
       "        text-align: right;\n",
       "    }\n",
       "</style>\n",
       "<table border=\"1\" class=\"dataframe\">\n",
       "  <thead>\n",
       "    <tr style=\"text-align: right;\">\n",
       "      <th>duration</th>\n",
       "      <th>0-20</th>\n",
       "      <th>20-40</th>\n",
       "      <th>40-60</th>\n",
       "      <th>60-80</th>\n",
       "      <th>&gt;80</th>\n",
       "    </tr>\n",
       "    <tr>\n",
       "      <th>Mediatype</th>\n",
       "      <th></th>\n",
       "      <th></th>\n",
       "      <th></th>\n",
       "      <th></th>\n",
       "      <th></th>\n",
       "    </tr>\n",
       "  </thead>\n",
       "  <tbody>\n",
       "    <tr>\n",
       "      <th>DVD Special</th>\n",
       "      <td>2.914576</td>\n",
       "      <td>3.445481</td>\n",
       "      <td>3.207250</td>\n",
       "      <td>NaN</td>\n",
       "      <td>2.838000</td>\n",
       "    </tr>\n",
       "    <tr>\n",
       "      <th>Movie</th>\n",
       "      <td>2.091484</td>\n",
       "      <td>2.958930</td>\n",
       "      <td>3.301082</td>\n",
       "      <td>3.146733</td>\n",
       "      <td>3.619978</td>\n",
       "    </tr>\n",
       "    <tr>\n",
       "      <th>Music Video</th>\n",
       "      <td>2.374712</td>\n",
       "      <td>2.292750</td>\n",
       "      <td>2.689000</td>\n",
       "      <td>NaN</td>\n",
       "      <td>NaN</td>\n",
       "    </tr>\n",
       "    <tr>\n",
       "      <th>OVA</th>\n",
       "      <td>2.716476</td>\n",
       "      <td>3.133294</td>\n",
       "      <td>2.751825</td>\n",
       "      <td>3.113306</td>\n",
       "      <td>3.151345</td>\n",
       "    </tr>\n",
       "    <tr>\n",
       "      <th>Other</th>\n",
       "      <td>2.394337</td>\n",
       "      <td>3.322878</td>\n",
       "      <td>2.991667</td>\n",
       "      <td>2.722000</td>\n",
       "      <td>3.558750</td>\n",
       "    </tr>\n",
       "    <tr>\n",
       "      <th>TV</th>\n",
       "      <td>2.428329</td>\n",
       "      <td>3.507727</td>\n",
       "      <td>3.452000</td>\n",
       "      <td>NaN</td>\n",
       "      <td>2.587000</td>\n",
       "    </tr>\n",
       "    <tr>\n",
       "      <th>TV Special</th>\n",
       "      <td>2.636727</td>\n",
       "      <td>3.229709</td>\n",
       "      <td>3.338108</td>\n",
       "      <td>3.143355</td>\n",
       "      <td>3.667397</td>\n",
       "    </tr>\n",
       "    <tr>\n",
       "      <th>Web</th>\n",
       "      <td>2.353887</td>\n",
       "      <td>3.331457</td>\n",
       "      <td>2.521500</td>\n",
       "      <td>2.979250</td>\n",
       "      <td>3.518500</td>\n",
       "    </tr>\n",
       "    <tr>\n",
       "      <th>is_missing</th>\n",
       "      <td>2.327500</td>\n",
       "      <td>3.277500</td>\n",
       "      <td>3.448667</td>\n",
       "      <td>2.718500</td>\n",
       "      <td>NaN</td>\n",
       "    </tr>\n",
       "  </tbody>\n",
       "</table>\n",
       "</div>"
      ],
      "text/plain": [
       "duration         0-20     20-40     40-60     60-80       >80\n",
       "Mediatype                                                    \n",
       "DVD Special  2.914576  3.445481  3.207250       NaN  2.838000\n",
       "Movie        2.091484  2.958930  3.301082  3.146733  3.619978\n",
       "Music Video  2.374712  2.292750  2.689000       NaN       NaN\n",
       "OVA          2.716476  3.133294  2.751825  3.113306  3.151345\n",
       "Other        2.394337  3.322878  2.991667  2.722000  3.558750\n",
       "TV           2.428329  3.507727  3.452000       NaN  2.587000\n",
       "TV Special   2.636727  3.229709  3.338108  3.143355  3.667397\n",
       "Web          2.353887  3.331457  2.521500  2.979250  3.518500\n",
       "is_missing   2.327500  3.277500  3.448667  2.718500       NaN"
      ]
     },
     "execution_count": 39,
     "metadata": {},
     "output_type": "execute_result"
    }
   ],
   "source": [
    "exp.pivot_table(columns='duration', values='rating', index='Mediatype')"
   ]
  },
  {
   "cell_type": "code",
   "execution_count": 40,
   "id": "cdd6971f",
   "metadata": {},
   "outputs": [
    {
     "data": {
      "image/png": "[encoded data removed]",
      "text/plain": [
       "<Figure size 300x500 with 1 Axes>"
      ]
     },
     "metadata": {},
     "output_type": "display_data"
    }
   ],
   "source": [
    "discrete_univariate_analysis(dataset, \"ongoing\", perc=True)"
   ]
  },
  {
   "cell_type": "code",
   "execution_count": 41,
   "id": "1a4567aa",
   "metadata": {},
   "outputs": [
    {
     "data": {
      "text/plain": [
       "3.1624600000000003"
      ]
     },
     "execution_count": 41,
     "metadata": {},
     "output_type": "execute_result"
    }
   ],
   "source": [
    "dataset[dataset['ongoing'] == True]['rating'].mean()"
   ]
  },
  {
   "cell_type": "code",
   "execution_count": 42,
   "id": "c12abef6",
   "metadata": {},
   "outputs": [
    {
     "data": {
      "text/plain": [
       "8.94"
      ]
     },
     "execution_count": 42,
     "metadata": {},
     "output_type": "execute_result"
    }
   ],
   "source": [
    "dataset[dataset['ongoing'] == True]['duration'].mean()"
   ]
  },
  {
   "cell_type": "code",
   "execution_count": 43,
   "id": "81cc04fb",
   "metadata": {},
   "outputs": [
    {
     "data": {
      "image/png": "[encoded data removed]",
      "text/plain": [
       "<Figure size 600x500 with 1 Axes>"
      ]
     },
     "metadata": {},
     "output_type": "display_data"
    }
   ],
   "source": [
    "discrete_univariate_analysis(dataset, \"sznOfRelease\", perc=True)"
   ]
  },
  {
   "cell_type": "code",
   "execution_count": 44,
   "id": "2f5729c0",
   "metadata": {},
   "outputs": [
    {
     "data": {
      "image/png": "[encoded data removed]",
      "text/plain": [
       "<Figure size 2300x500 with 1 Axes>"
      ]
     },
     "metadata": {},
     "output_type": "display_data"
    }
   ],
   "source": [
    "discrete_univariate_analysis(dataset, \"studio_primary\", perc=True)"
   ]
  },
  {
   "cell_type": "code",
   "execution_count": 45,
   "id": "f700f087",
   "metadata": {},
   "outputs": [
    {
     "data": {
      "text/plain": [
       "Others                  38.25\n",
       "Production I.G           8.42\n",
       "is_missing               7.02\n",
       "TMS Entertainment        5.96\n",
       "MADHOUSE                 5.96\n",
       "Sunrise                  4.91\n",
       "Kyoto Animation          4.04\n",
       "Studio Deen              3.68\n",
       "Bones                    3.68\n",
       "A-1 Pictures             3.68\n",
       "Toei Animation           3.51\n",
       "Shaft                    3.33\n",
       "J.C. Staff               3.16\n",
       "Studio Pierrot           2.46\n",
       "XEBEC                    0.35\n",
       "Tatsunoko Production     0.35\n",
       "Nippon Animation         0.35\n",
       "OLM                      0.35\n",
       "Shin-Ei Animation        0.35\n",
       "GONZO                    0.18\n",
       "Name: studio_primary, dtype: float64"
      ]
     },
     "execution_count": 45,
     "metadata": {},
     "output_type": "execute_result"
    }
   ],
   "source": [
    "dataset[dataset['rating'] > 4]['studio_primary'].value_counts(normalize=True).mul(100).round(2)"
   ]
  },
  {
   "cell_type": "code",
   "execution_count": 46,
   "id": "ddc0251d",
   "metadata": {},
   "outputs": [
    {
     "data": {
      "image/png": "[encoded data removed]",
      "text/plain": [
       "<Figure size 300x500 with 1 Axes>"
      ]
     },
     "metadata": {},
     "output_type": "display_data"
    }
   ],
   "source": [
    "discrete_univariate_analysis(dataset, 'contentWarn', perc=True)"
   ]
  },
  {
   "cell_type": "code",
   "execution_count": 47,
   "id": "cda87de6",
   "metadata": {},
   "outputs": [],
   "source": [
    "corr_cols = [item for item in dataset.columns if \"tag\" not in item]"
   ]
  },
  {
   "cell_type": "code",
   "execution_count": 48,
   "id": "20f77330",
   "metadata": {},
   "outputs": [
    {
     "data": {
      "text/plain": [
       "['mediaType',\n",
       " 'eps',\n",
       " 'duration',\n",
       " 'ongoing',\n",
       " 'sznOfRelease',\n",
       " 'years_running',\n",
       " 'studio_primary',\n",
       " 'studios_colab',\n",
       " 'contentWarn',\n",
       " 'watched',\n",
       " 'watching',\n",
       " 'wantWatch',\n",
       " 'dropped',\n",
       " 'rating',\n",
       " 'votes',\n",
       " 'Duration_category']"
      ]
     },
     "execution_count": 48,
     "metadata": {},
     "output_type": "execute_result"
    }
   ],
   "source": [
    "corr_cols"
   ]
  },
  {
   "cell_type": "code",
   "execution_count": 49,
   "id": "bcf38148",
   "metadata": {},
   "outputs": [
    {
     "name": "stderr",
     "output_type": "stream",
     "text": [
      "C:\\Users\\Nazia Sheikh\\AppData\\Local\\Temp\\ipykernel_12260\\2306911981.py:2: FutureWarning: The default value of numeric_only in DataFrame.corr is deprecated. In a future version, it will default to False. Select only valid columns or specify the value of numeric_only to silence this warning.\n",
      "  sns.heatmap(dataset[corr_cols].corr(), annot=True, vmin = -1, vmax= 1, fmt='.2f', cmap='Spectral')\n"
     ]
    },
    {
     "data": {
      "image/png": "[encoded data removed]",
      "text/plain": [
       "<Figure size 1600x700 with 2 Axes>"
      ]
     },
     "metadata": {},
     "output_type": "display_data"
    }
   ],
   "source": [
    "plt.figure(figsize=(16,7))\n",
    "sns.heatmap(dataset[corr_cols].corr(), annot=True, vmin = -1, vmax= 1, fmt='.2f', cmap='Spectral')\n",
    "plt.show()"
   ]
  },
  {
   "cell_type": "code",
   "execution_count": 50,
   "id": "79ac7ae0",
   "metadata": {},
   "outputs": [],
   "source": [
    "dataset.drop(columns= ['eps', 'watched'], inplace=True)"
   ]
  },
  {
   "cell_type": "code",
   "execution_count": 51,
   "id": "0042a643",
   "metadata": {},
   "outputs": [
    {
     "data": {
      "text/plain": [
       "(7465, 41)"
      ]
     },
     "execution_count": 51,
     "metadata": {},
     "output_type": "execute_result"
    }
   ],
   "source": [
    "dataset.shape"
   ]
  },
  {
   "cell_type": "code",
   "execution_count": 52,
   "id": "db3f2156",
   "metadata": {},
   "outputs": [
    {
     "data": {
      "text/plain": [
       "<Axes: xlabel='sznOfRelease', ylabel='rating'>"
      ]
     },
     "execution_count": 52,
     "metadata": {},
     "output_type": "execute_result"
    },
    {
     "data": {
      "image/png": "[encoded data removed]",
      "text/plain": [
       "<Figure size 1500x800 with 1 Axes>"
      ]
     },
     "metadata": {},
     "output_type": "display_data"
    }
   ],
   "source": [
    "plt.figure(figsize=(15,8))\n",
    "sns.boxplot(x = 'sznOfRelease', y='rating', data=dataset)"
   ]
  },
  {
   "cell_type": "markdown",
   "id": "79ebc8db",
   "metadata": {},
   "source": [
    "# MODEL BUILDING- Regression"
   ]
  },
  {
   "cell_type": "code",
   "execution_count": 53,
   "id": "10b2214d",
   "metadata": {},
   "outputs": [],
   "source": [
    "x = dataset.drop(['rating'], axis=1)\n",
    "y = dataset['rating']"
   ]
  },
  {
   "cell_type": "code",
   "execution_count": 54,
   "id": "35bdbaa9",
   "metadata": {},
   "outputs": [
    {
     "name": "stdout",
     "output_type": "stream",
     "text": [
      "<class 'pandas.core.frame.DataFrame'>\n",
      "Int64Index: 7465 entries, 1 to 12100\n",
      "Data columns (total 40 columns):\n",
      " #   Column                      Non-Null Count  Dtype   \n",
      "---  ------                      --------------  -----   \n",
      " 0   mediaType                   7465 non-null   object  \n",
      " 1   duration                    7465 non-null   float64 \n",
      " 2   ongoing                     7465 non-null   bool    \n",
      " 3   sznOfRelease                7465 non-null   object  \n",
      " 4   years_running               7465 non-null   int64   \n",
      " 5   studio_primary              7465 non-null   object  \n",
      " 6   studios_colab               7465 non-null   int64   \n",
      " 7   contentWarn                 7465 non-null   int64   \n",
      " 8   watching                    7465 non-null   int64   \n",
      " 9   wantWatch                   7465 non-null   int64   \n",
      " 10  dropped                     7465 non-null   int64   \n",
      " 11  votes                       7465 non-null   int64   \n",
      " 12  tag_Based_on_a_Manga        7465 non-null   int64   \n",
      " 13  tag_Comedy                  7465 non-null   int64   \n",
      " 14  tag_Action                  7465 non-null   int64   \n",
      " 15  tag_Fantasy                 7465 non-null   int64   \n",
      " 16  tag_Sci_Fi                  7465 non-null   int64   \n",
      " 17  tag_Shounen                 7465 non-null   int64   \n",
      " 18  tag_Original_Work           7465 non-null   int64   \n",
      " 19  tag_Non_Human_Protagonists  7465 non-null   int64   \n",
      " 20  tag_Drama                   7465 non-null   int64   \n",
      " 21  tag_Adventure               7465 non-null   int64   \n",
      " 22  tag_Family_Friendly         7465 non-null   int64   \n",
      " 23  tag_Short_Episodes          7465 non-null   int64   \n",
      " 24  tag_School_Life             7465 non-null   int64   \n",
      " 25  tag_Romance                 7465 non-null   int64   \n",
      " 26  tag_Shorts                  7465 non-null   int64   \n",
      " 27  tag_Slice_of_Life           7465 non-null   int64   \n",
      " 28  tag_Seinen                  7465 non-null   int64   \n",
      " 29  tag_Supernatural            7465 non-null   int64   \n",
      " 30  tag_Magic                   7465 non-null   int64   \n",
      " 31  tag_Animal_Protagonists     7465 non-null   int64   \n",
      " 32  tag_Ecchi                   7465 non-null   int64   \n",
      " 33  tag_Mecha                   7465 non-null   int64   \n",
      " 34  tag_Based_on_a_Light_Novel  7465 non-null   int64   \n",
      " 35  tag_CG_Animation            7465 non-null   int64   \n",
      " 36  tag_Superpowers             7465 non-null   int64   \n",
      " 37  tag_Others                  7465 non-null   int64   \n",
      " 38  tag_missing                 7465 non-null   int64   \n",
      " 39  Duration_category           7465 non-null   category\n",
      "dtypes: bool(1), category(1), float64(1), int64(34), object(3)\n",
      "memory usage: 2.2+ MB\n"
     ]
    }
   ],
   "source": [
    "x.info()"
   ]
  },
  {
   "cell_type": "code",
   "execution_count": 55,
   "id": "cc7f3e5a",
   "metadata": {},
   "outputs": [
    {
     "data": {
      "text/html": [
       "<div>\n",
       "<style scoped>\n",
       "    .dataframe tbody tr th:only-of-type {\n",
       "        vertical-align: middle;\n",
       "    }\n",
       "\n",
       "    .dataframe tbody tr th {\n",
       "        vertical-align: top;\n",
       "    }\n",
       "\n",
       "    .dataframe thead th {\n",
       "        text-align: right;\n",
       "    }\n",
       "</style>\n",
       "<table border=\"1\" class=\"dataframe\">\n",
       "  <thead>\n",
       "    <tr style=\"text-align: right;\">\n",
       "      <th></th>\n",
       "      <th>duration</th>\n",
       "      <th>ongoing</th>\n",
       "      <th>years_running</th>\n",
       "      <th>studios_colab</th>\n",
       "      <th>contentWarn</th>\n",
       "      <th>watching</th>\n",
       "      <th>wantWatch</th>\n",
       "      <th>dropped</th>\n",
       "      <th>votes</th>\n",
       "      <th>tag_Based_on_a_Manga</th>\n",
       "      <th>...</th>\n",
       "      <th>studio_primary_Sunrise</th>\n",
       "      <th>studio_primary_TMS Entertainment</th>\n",
       "      <th>studio_primary_Tatsunoko Production</th>\n",
       "      <th>studio_primary_Toei Animation</th>\n",
       "      <th>studio_primary_XEBEC</th>\n",
       "      <th>studio_primary_is_missing</th>\n",
       "      <th>Duration_category_20-40</th>\n",
       "      <th>Duration_category_40-60</th>\n",
       "      <th>Duration_category_60-80</th>\n",
       "      <th>Duration_category_&gt;80</th>\n",
       "    </tr>\n",
       "  </thead>\n",
       "  <tbody>\n",
       "    <tr>\n",
       "      <th>1</th>\n",
       "      <td>107.0</td>\n",
       "      <td>False</td>\n",
       "      <td>0</td>\n",
       "      <td>0</td>\n",
       "      <td>0</td>\n",
       "      <td>1453</td>\n",
       "      <td>21733</td>\n",
       "      <td>124</td>\n",
       "      <td>43960</td>\n",
       "      <td>0</td>\n",
       "      <td>...</td>\n",
       "      <td>0</td>\n",
       "      <td>0</td>\n",
       "      <td>0</td>\n",
       "      <td>0</td>\n",
       "      <td>0</td>\n",
       "      <td>0</td>\n",
       "      <td>0</td>\n",
       "      <td>0</td>\n",
       "      <td>0</td>\n",
       "      <td>1</td>\n",
       "    </tr>\n",
       "    <tr>\n",
       "      <th>2</th>\n",
       "      <td>130.0</td>\n",
       "      <td>False</td>\n",
       "      <td>0</td>\n",
       "      <td>0</td>\n",
       "      <td>1</td>\n",
       "      <td>946</td>\n",
       "      <td>17148</td>\n",
       "      <td>132</td>\n",
       "      <td>33752</td>\n",
       "      <td>1</td>\n",
       "      <td>...</td>\n",
       "      <td>0</td>\n",
       "      <td>0</td>\n",
       "      <td>0</td>\n",
       "      <td>0</td>\n",
       "      <td>0</td>\n",
       "      <td>0</td>\n",
       "      <td>0</td>\n",
       "      <td>0</td>\n",
       "      <td>0</td>\n",
       "      <td>1</td>\n",
       "    </tr>\n",
       "    <tr>\n",
       "      <th>8</th>\n",
       "      <td>111.0</td>\n",
       "      <td>False</td>\n",
       "      <td>0</td>\n",
       "      <td>0</td>\n",
       "      <td>0</td>\n",
       "      <td>280</td>\n",
       "      <td>6624</td>\n",
       "      <td>150</td>\n",
       "      <td>6254</td>\n",
       "      <td>1</td>\n",
       "      <td>...</td>\n",
       "      <td>1</td>\n",
       "      <td>0</td>\n",
       "      <td>0</td>\n",
       "      <td>0</td>\n",
       "      <td>0</td>\n",
       "      <td>0</td>\n",
       "      <td>0</td>\n",
       "      <td>0</td>\n",
       "      <td>0</td>\n",
       "      <td>1</td>\n",
       "    </tr>\n",
       "    <tr>\n",
       "      <th>27</th>\n",
       "      <td>125.0</td>\n",
       "      <td>False</td>\n",
       "      <td>0</td>\n",
       "      <td>0</td>\n",
       "      <td>0</td>\n",
       "      <td>589</td>\n",
       "      <td>12388</td>\n",
       "      <td>161</td>\n",
       "      <td>82752</td>\n",
       "      <td>0</td>\n",
       "      <td>...</td>\n",
       "      <td>0</td>\n",
       "      <td>0</td>\n",
       "      <td>0</td>\n",
       "      <td>0</td>\n",
       "      <td>0</td>\n",
       "      <td>0</td>\n",
       "      <td>0</td>\n",
       "      <td>0</td>\n",
       "      <td>0</td>\n",
       "      <td>1</td>\n",
       "    </tr>\n",
       "    <tr>\n",
       "      <th>31</th>\n",
       "      <td>117.0</td>\n",
       "      <td>False</td>\n",
       "      <td>0</td>\n",
       "      <td>0</td>\n",
       "      <td>0</td>\n",
       "      <td>538</td>\n",
       "      <td>15651</td>\n",
       "      <td>130</td>\n",
       "      <td>26465</td>\n",
       "      <td>0</td>\n",
       "      <td>...</td>\n",
       "      <td>0</td>\n",
       "      <td>0</td>\n",
       "      <td>0</td>\n",
       "      <td>0</td>\n",
       "      <td>0</td>\n",
       "      <td>0</td>\n",
       "      <td>0</td>\n",
       "      <td>0</td>\n",
       "      <td>0</td>\n",
       "      <td>1</td>\n",
       "    </tr>\n",
       "  </tbody>\n",
       "</table>\n",
       "<p>5 rows × 73 columns</p>\n",
       "</div>"
      ],
      "text/plain": [
       "    duration  ongoing  years_running  studios_colab  contentWarn  watching  \\\n",
       "1      107.0    False              0              0            0      1453   \n",
       "2      130.0    False              0              0            1       946   \n",
       "8      111.0    False              0              0            0       280   \n",
       "27     125.0    False              0              0            0       589   \n",
       "31     117.0    False              0              0            0       538   \n",
       "\n",
       "    wantWatch  dropped  votes  tag_Based_on_a_Manga  ...  \\\n",
       "1       21733      124  43960                     0  ...   \n",
       "2       17148      132  33752                     1  ...   \n",
       "8        6624      150   6254                     1  ...   \n",
       "27      12388      161  82752                     0  ...   \n",
       "31      15651      130  26465                     0  ...   \n",
       "\n",
       "    studio_primary_Sunrise  studio_primary_TMS Entertainment  \\\n",
       "1                        0                                 0   \n",
       "2                        0                                 0   \n",
       "8                        1                                 0   \n",
       "27                       0                                 0   \n",
       "31                       0                                 0   \n",
       "\n",
       "    studio_primary_Tatsunoko Production  studio_primary_Toei Animation  \\\n",
       "1                                     0                              0   \n",
       "2                                     0                              0   \n",
       "8                                     0                              0   \n",
       "27                                    0                              0   \n",
       "31                                    0                              0   \n",
       "\n",
       "    studio_primary_XEBEC  studio_primary_is_missing  Duration_category_20-40  \\\n",
       "1                      0                          0                        0   \n",
       "2                      0                          0                        0   \n",
       "8                      0                          0                        0   \n",
       "27                     0                          0                        0   \n",
       "31                     0                          0                        0   \n",
       "\n",
       "    Duration_category_40-60  Duration_category_60-80  Duration_category_>80  \n",
       "1                         0                        0                      1  \n",
       "2                         0                        0                      1  \n",
       "8                         0                        0                      1  \n",
       "27                        0                        0                      1  \n",
       "31                        0                        0                      1  \n",
       "\n",
       "[5 rows x 73 columns]"
      ]
     },
     "execution_count": 55,
     "metadata": {},
     "output_type": "execute_result"
    }
   ],
   "source": [
    "x = pd.get_dummies(x, columns=x.select_dtypes(include=['object', 'category']).columns.tolist(), drop_first=True)\n",
    "x.head()"
   ]
  },
  {
   "cell_type": "code",
   "execution_count": 56,
   "id": "854dffd3",
   "metadata": {},
   "outputs": [],
   "source": [
    "x.drop(columns='ongoing', inplace=True)"
   ]
  },
  {
   "cell_type": "code",
   "execution_count": 57,
   "id": "51a61d91",
   "metadata": {},
   "outputs": [
    {
     "name": "stdout",
     "output_type": "stream",
     "text": [
      "<class 'pandas.core.frame.DataFrame'>\n",
      "Int64Index: 7465 entries, 1 to 12100\n",
      "Data columns (total 72 columns):\n",
      " #   Column                               Non-Null Count  Dtype  \n",
      "---  ------                               --------------  -----  \n",
      " 0   duration                             7465 non-null   float64\n",
      " 1   years_running                        7465 non-null   int64  \n",
      " 2   studios_colab                        7465 non-null   int64  \n",
      " 3   contentWarn                          7465 non-null   int64  \n",
      " 4   watching                             7465 non-null   int64  \n",
      " 5   wantWatch                            7465 non-null   int64  \n",
      " 6   dropped                              7465 non-null   int64  \n",
      " 7   votes                                7465 non-null   int64  \n",
      " 8   tag_Based_on_a_Manga                 7465 non-null   int64  \n",
      " 9   tag_Comedy                           7465 non-null   int64  \n",
      " 10  tag_Action                           7465 non-null   int64  \n",
      " 11  tag_Fantasy                          7465 non-null   int64  \n",
      " 12  tag_Sci_Fi                           7465 non-null   int64  \n",
      " 13  tag_Shounen                          7465 non-null   int64  \n",
      " 14  tag_Original_Work                    7465 non-null   int64  \n",
      " 15  tag_Non_Human_Protagonists           7465 non-null   int64  \n",
      " 16  tag_Drama                            7465 non-null   int64  \n",
      " 17  tag_Adventure                        7465 non-null   int64  \n",
      " 18  tag_Family_Friendly                  7465 non-null   int64  \n",
      " 19  tag_Short_Episodes                   7465 non-null   int64  \n",
      " 20  tag_School_Life                      7465 non-null   int64  \n",
      " 21  tag_Romance                          7465 non-null   int64  \n",
      " 22  tag_Shorts                           7465 non-null   int64  \n",
      " 23  tag_Slice_of_Life                    7465 non-null   int64  \n",
      " 24  tag_Seinen                           7465 non-null   int64  \n",
      " 25  tag_Supernatural                     7465 non-null   int64  \n",
      " 26  tag_Magic                            7465 non-null   int64  \n",
      " 27  tag_Animal_Protagonists              7465 non-null   int64  \n",
      " 28  tag_Ecchi                            7465 non-null   int64  \n",
      " 29  tag_Mecha                            7465 non-null   int64  \n",
      " 30  tag_Based_on_a_Light_Novel           7465 non-null   int64  \n",
      " 31  tag_CG_Animation                     7465 non-null   int64  \n",
      " 32  tag_Superpowers                      7465 non-null   int64  \n",
      " 33  tag_Others                           7465 non-null   int64  \n",
      " 34  tag_missing                          7465 non-null   int64  \n",
      " 35  mediaType_Movie                      7465 non-null   uint8  \n",
      " 36  mediaType_Music Video                7465 non-null   uint8  \n",
      " 37  mediaType_OVA                        7465 non-null   uint8  \n",
      " 38  mediaType_Other                      7465 non-null   uint8  \n",
      " 39  mediaType_TV                         7465 non-null   uint8  \n",
      " 40  mediaType_TV Special                 7465 non-null   uint8  \n",
      " 41  mediaType_Web                        7465 non-null   uint8  \n",
      " 42  mediaType_is_missing                 7465 non-null   uint8  \n",
      " 43  sznOfRelease_Spring                  7465 non-null   uint8  \n",
      " 44  sznOfRelease_Summer                  7465 non-null   uint8  \n",
      " 45  sznOfRelease_Winter                  7465 non-null   uint8  \n",
      " 46  sznOfRelease_is_missing              7465 non-null   uint8  \n",
      " 47  studio_primary_AIC                   7465 non-null   uint8  \n",
      " 48  studio_primary_Bones                 7465 non-null   uint8  \n",
      " 49  studio_primary_DLE                   7465 non-null   uint8  \n",
      " 50  studio_primary_GONZO                 7465 non-null   uint8  \n",
      " 51  studio_primary_J.C. Staff            7465 non-null   uint8  \n",
      " 52  studio_primary_Kyoto Animation       7465 non-null   uint8  \n",
      " 53  studio_primary_MADHOUSE              7465 non-null   uint8  \n",
      " 54  studio_primary_Nippon Animation      7465 non-null   uint8  \n",
      " 55  studio_primary_OLM                   7465 non-null   uint8  \n",
      " 56  studio_primary_Others                7465 non-null   uint8  \n",
      " 57  studio_primary_Production I.G        7465 non-null   uint8  \n",
      " 58  studio_primary_Shaft                 7465 non-null   uint8  \n",
      " 59  studio_primary_Shin-Ei Animation     7465 non-null   uint8  \n",
      " 60  studio_primary_Studio Deen           7465 non-null   uint8  \n",
      " 61  studio_primary_Studio Pierrot        7465 non-null   uint8  \n",
      " 62  studio_primary_Sunrise               7465 non-null   uint8  \n",
      " 63  studio_primary_TMS Entertainment     7465 non-null   uint8  \n",
      " 64  studio_primary_Tatsunoko Production  7465 non-null   uint8  \n",
      " 65  studio_primary_Toei Animation        7465 non-null   uint8  \n",
      " 66  studio_primary_XEBEC                 7465 non-null   uint8  \n",
      " 67  studio_primary_is_missing            7465 non-null   uint8  \n",
      " 68  Duration_category_20-40              7465 non-null   uint8  \n",
      " 69  Duration_category_40-60              7465 non-null   uint8  \n",
      " 70  Duration_category_60-80              7465 non-null   uint8  \n",
      " 71  Duration_category_>80                7465 non-null   uint8  \n",
      "dtypes: float64(1), int64(34), uint8(37)\n",
      "memory usage: 2.3 MB\n"
     ]
    }
   ],
   "source": [
    "x.info()"
   ]
  },
  {
   "cell_type": "code",
   "execution_count": 58,
   "id": "502f828d",
   "metadata": {},
   "outputs": [],
   "source": [
    "from sklearn.model_selection import train_test_split\n",
    "from sklearn.linear_model import LinearRegression \n",
    "from sklearn.metrics import mean_squared_error, r2_score, mean_absolute_error"
   ]
  },
  {
   "cell_type": "code",
   "execution_count": 59,
   "id": "c8034026",
   "metadata": {},
   "outputs": [],
   "source": [
    "X_train, X_test, Y_train, Y_test = train_test_split(x,y, test_size=0.2, random_state=1)"
   ]
  },
  {
   "cell_type": "code",
   "execution_count": 60,
   "id": "6d6709f1",
   "metadata": {},
   "outputs": [
    {
     "name": "stdout",
     "output_type": "stream",
     "text": [
      "Number of samples for train 5972\n",
      "Number of samples for test 1493\n"
     ]
    }
   ],
   "source": [
    "print(\"Number of samples for train\", X_train.shape[0])\n",
    "print(\"Number of samples for test\", X_test.shape[0])"
   ]
  },
  {
   "cell_type": "code",
   "execution_count": 61,
   "id": "0f266659",
   "metadata": {},
   "outputs": [
    {
     "data": {
      "text/html": [
       "<style>#sk-container-id-1 {color: black;}#sk-container-id-1 pre{padding: 0;}#sk-container-id-1 div.sk-toggleable {background-color: white;}#sk-container-id-1 label.sk-toggleable__label {cursor: pointer;display: block;width: 100%;margin-bottom: 0;padding: 0.3em;box-sizing: border-box;text-align: center;}#sk-container-id-1 label.sk-toggleable__label-arrow:before {content: \"▸\";float: left;margin-right: 0.25em;color: #696969;}#sk-container-id-1 label.sk-toggleable__label-arrow:hover:before {color: black;}#sk-container-id-1 div.sk-estimator:hover label.sk-toggleable__label-arrow:before {color: black;}#sk-container-id-1 div.sk-toggleable__content {max-height: 0;max-width: 0;overflow: hidden;text-align: left;background-color: #f0f8ff;}#sk-container-id-1 div.sk-toggleable__content pre {margin: 0.2em;color: black;border-radius: 0.25em;background-color: #f0f8ff;}#sk-container-id-1 input.sk-toggleable__control:checked~div.sk-toggleable__content {max-height: 200px;max-width: 100%;overflow: auto;}#sk-container-id-1 input.sk-toggleable__control:checked~label.sk-toggleable__label-arrow:before {content: \"▾\";}#sk-container-id-1 div.sk-estimator input.sk-toggleable__control:checked~label.sk-toggleable__label {background-color: #d4ebff;}#sk-container-id-1 div.sk-label input.sk-toggleable__control:checked~label.sk-toggleable__label {background-color: #d4ebff;}#sk-container-id-1 input.sk-hidden--visually {border: 0;clip: rect(1px 1px 1px 1px);clip: rect(1px, 1px, 1px, 1px);height: 1px;margin: -1px;overflow: hidden;padding: 0;position: absolute;width: 1px;}#sk-container-id-1 div.sk-estimator {font-family: monospace;background-color: #f0f8ff;border: 1px dotted black;border-radius: 0.25em;box-sizing: border-box;margin-bottom: 0.5em;}#sk-container-id-1 div.sk-estimator:hover {background-color: #d4ebff;}#sk-container-id-1 div.sk-parallel-item::after {content: \"\";width: 100%;border-bottom: 1px solid gray;flex-grow: 1;}#sk-container-id-1 div.sk-label:hover label.sk-toggleable__label {background-color: #d4ebff;}#sk-container-id-1 div.sk-serial::before {content: \"\";position: absolute;border-left: 1px solid gray;box-sizing: border-box;top: 0;bottom: 0;left: 50%;z-index: 0;}#sk-container-id-1 div.sk-serial {display: flex;flex-direction: column;align-items: center;background-color: white;padding-right: 0.2em;padding-left: 0.2em;position: relative;}#sk-container-id-1 div.sk-item {position: relative;z-index: 1;}#sk-container-id-1 div.sk-parallel {display: flex;align-items: stretch;justify-content: center;background-color: white;position: relative;}#sk-container-id-1 div.sk-item::before, #sk-container-id-1 div.sk-parallel-item::before {content: \"\";position: absolute;border-left: 1px solid gray;box-sizing: border-box;top: 0;bottom: 0;left: 50%;z-index: -1;}#sk-container-id-1 div.sk-parallel-item {display: flex;flex-direction: column;z-index: 1;position: relative;background-color: white;}#sk-container-id-1 div.sk-parallel-item:first-child::after {align-self: flex-end;width: 50%;}#sk-container-id-1 div.sk-parallel-item:last-child::after {align-self: flex-start;width: 50%;}#sk-container-id-1 div.sk-parallel-item:only-child::after {width: 0;}#sk-container-id-1 div.sk-dashed-wrapped {border: 1px dashed gray;margin: 0 0.4em 0.5em 0.4em;box-sizing: border-box;padding-bottom: 0.4em;background-color: white;}#sk-container-id-1 div.sk-label label {font-family: monospace;font-weight: bold;display: inline-block;line-height: 1.2em;}#sk-container-id-1 div.sk-label-container {text-align: center;}#sk-container-id-1 div.sk-container {/* jupyter's `normalize.less` sets `[hidden] { display: none; }` but bootstrap.min.css set `[hidden] { display: none !important; }` so we also need the `!important` here to be able to override the default hidden behavior on the sphinx rendered scikit-learn.org. See: https://github.com/scikit-learn/scikit-learn/issues/21755 */display: inline-block !important;position: relative;}#sk-container-id-1 div.sk-text-repr-fallback {display: none;}</style><div id=\"sk-container-id-1\" class=\"sk-top-container\"><div class=\"sk-text-repr-fallback\"><pre>LinearRegression()</pre><b>In a Jupyter environment, please rerun this cell to show the HTML representation or trust the notebook. <br />On GitHub, the HTML representation is unable to render, please try loading this page with nbviewer.org.</b></div><div class=\"sk-container\" hidden><div class=\"sk-item\"><div class=\"sk-estimator sk-toggleable\"><input class=\"sk-toggleable__control sk-hidden--visually\" id=\"sk-estimator-id-1\" type=\"checkbox\" checked><label for=\"sk-estimator-id-1\" class=\"sk-toggleable__label sk-toggleable__label-arrow\">LinearRegression</label><div class=\"sk-toggleable__content\"><pre>LinearRegression()</pre></div></div></div></div></div>"
      ],
      "text/plain": [
       "LinearRegression()"
      ]
     },
     "execution_count": 61,
     "metadata": {},
     "output_type": "execute_result"
    }
   ],
   "source": [
    "lin_model = LinearRegression()\n",
    "lin_model.fit(X_train, Y_train)"
   ]
  },
  {
   "cell_type": "code",
   "execution_count": 62,
   "id": "9ecdfc88",
   "metadata": {},
   "outputs": [],
   "source": [
    "def Model_performance(model, predictor, target):\n",
    "    pred = model.predict(predictor)\n",
    "    r2 = r2_score(target, pred)\n",
    "    rmse = np.sqrt(mean_squared_error(target, pred))\n",
    "    \n",
    "    results= pd.DataFrame({\n",
    "        \"RMSE\":rmse, \n",
    "        \"R2 Score\":r2\n",
    "    \n",
    "    }, index=[0]\n",
    "    )\n",
    "    \n",
    "    return results"
   ]
  },
  {
   "cell_type": "code",
   "execution_count": 63,
   "id": "43646826",
   "metadata": {},
   "outputs": [
    {
     "name": "stdout",
     "output_type": "stream",
     "text": [
      "Training Data Performance\n"
     ]
    },
    {
     "data": {
      "text/html": [
       "<div>\n",
       "<style scoped>\n",
       "    .dataframe tbody tr th:only-of-type {\n",
       "        vertical-align: middle;\n",
       "    }\n",
       "\n",
       "    .dataframe tbody tr th {\n",
       "        vertical-align: top;\n",
       "    }\n",
       "\n",
       "    .dataframe thead th {\n",
       "        text-align: right;\n",
       "    }\n",
       "</style>\n",
       "<table border=\"1\" class=\"dataframe\">\n",
       "  <thead>\n",
       "    <tr style=\"text-align: right;\">\n",
       "      <th></th>\n",
       "      <th>RMSE</th>\n",
       "      <th>R2 Score</th>\n",
       "    </tr>\n",
       "  </thead>\n",
       "  <tbody>\n",
       "    <tr>\n",
       "      <th>0</th>\n",
       "      <td>0.574895</td>\n",
       "      <td>0.524197</td>\n",
       "    </tr>\n",
       "  </tbody>\n",
       "</table>\n",
       "</div>"
      ],
      "text/plain": [
       "       RMSE  R2 Score\n",
       "0  0.574895  0.524197"
      ]
     },
     "execution_count": 63,
     "metadata": {},
     "output_type": "execute_result"
    }
   ],
   "source": [
    "print(\"Training Data Performance\")\n",
    "lin_model_train = Model_performance(lin_model, X_train, Y_train)\n",
    "lin_model_train"
   ]
  },
  {
   "cell_type": "code",
   "execution_count": 64,
   "id": "39087b81",
   "metadata": {},
   "outputs": [
    {
     "name": "stdout",
     "output_type": "stream",
     "text": [
      "Test Data Performance\n"
     ]
    },
    {
     "data": {
      "text/html": [
       "<div>\n",
       "<style scoped>\n",
       "    .dataframe tbody tr th:only-of-type {\n",
       "        vertical-align: middle;\n",
       "    }\n",
       "\n",
       "    .dataframe tbody tr th {\n",
       "        vertical-align: top;\n",
       "    }\n",
       "\n",
       "    .dataframe thead th {\n",
       "        text-align: right;\n",
       "    }\n",
       "</style>\n",
       "<table border=\"1\" class=\"dataframe\">\n",
       "  <thead>\n",
       "    <tr style=\"text-align: right;\">\n",
       "      <th></th>\n",
       "      <th>RMSE</th>\n",
       "      <th>R2 Score</th>\n",
       "    </tr>\n",
       "  </thead>\n",
       "  <tbody>\n",
       "    <tr>\n",
       "      <th>0</th>\n",
       "      <td>0.5626</td>\n",
       "      <td>0.521878</td>\n",
       "    </tr>\n",
       "  </tbody>\n",
       "</table>\n",
       "</div>"
      ],
      "text/plain": [
       "     RMSE  R2 Score\n",
       "0  0.5626  0.521878"
      ]
     },
     "execution_count": 64,
     "metadata": {},
     "output_type": "execute_result"
    }
   ],
   "source": [
    "print(\"Test Data Performance\")\n",
    "lin_model_test = Model_performance(lin_model, X_test, Y_test)\n",
    "lin_model_test"
   ]
  },
  {
   "cell_type": "code",
   "execution_count": 65,
   "id": "36bd731e",
   "metadata": {},
   "outputs": [
    {
     "data": {
      "text/plain": [
       "Index(['duration', 'years_running', 'studios_colab', 'contentWarn', 'watching',\n",
       "       'wantWatch', 'dropped', 'votes', 'tag_Based_on_a_Manga', 'tag_Comedy',\n",
       "       'tag_Action', 'tag_Fantasy', 'tag_Sci_Fi', 'tag_Shounen',\n",
       "       'tag_Original_Work', 'tag_Non_Human_Protagonists', 'tag_Drama',\n",
       "       'tag_Adventure', 'tag_Family_Friendly', 'tag_Short_Episodes',\n",
       "       'tag_School_Life', 'tag_Romance', 'tag_Shorts', 'tag_Slice_of_Life',\n",
       "       'tag_Seinen', 'tag_Supernatural', 'tag_Magic',\n",
       "       'tag_Animal_Protagonists', 'tag_Ecchi', 'tag_Mecha',\n",
       "       'tag_Based_on_a_Light_Novel', 'tag_CG_Animation', 'tag_Superpowers',\n",
       "       'tag_Others', 'tag_missing', 'mediaType_Movie', 'mediaType_Music Video',\n",
       "       'mediaType_OVA', 'mediaType_Other', 'mediaType_TV',\n",
       "       'mediaType_TV Special', 'mediaType_Web', 'mediaType_is_missing',\n",
       "       'sznOfRelease_Spring', 'sznOfRelease_Summer', 'sznOfRelease_Winter',\n",
       "       'sznOfRelease_is_missing', 'studio_primary_AIC', 'studio_primary_Bones',\n",
       "       'studio_primary_DLE', 'studio_primary_GONZO',\n",
       "       'studio_primary_J.C. Staff', 'studio_primary_Kyoto Animation',\n",
       "       'studio_primary_MADHOUSE', 'studio_primary_Nippon Animation',\n",
       "       'studio_primary_OLM', 'studio_primary_Others',\n",
       "       'studio_primary_Production I.G', 'studio_primary_Shaft',\n",
       "       'studio_primary_Shin-Ei Animation', 'studio_primary_Studio Deen',\n",
       "       'studio_primary_Studio Pierrot', 'studio_primary_Sunrise',\n",
       "       'studio_primary_TMS Entertainment',\n",
       "       'studio_primary_Tatsunoko Production', 'studio_primary_Toei Animation',\n",
       "       'studio_primary_XEBEC', 'studio_primary_is_missing',\n",
       "       'Duration_category_20-40', 'Duration_category_40-60',\n",
       "       'Duration_category_60-80', 'Duration_category_>80'],\n",
       "      dtype='object')"
      ]
     },
     "execution_count": 65,
     "metadata": {},
     "output_type": "execute_result"
    }
   ],
   "source": [
    "x.columns"
   ]
  },
  {
   "cell_type": "markdown",
   "id": "0089cfab",
   "metadata": {},
   "source": [
    "# Feature Selection Technique\n",
    "1. Sequential search- small amount of data\n",
    "2. Grid Search- it is a very expensive search algo\n",
    "3. Baseian Search- faster but it overfits\n",
    "\n"
   ]
  },
  {
   "cell_type": "code",
   "execution_count": 84,
   "id": "e9ac9fd6",
   "metadata": {},
   "outputs": [
    {
     "name": "stdout",
     "output_type": "stream",
     "text": [
      "Collecting mlxtend\n",
      "  Obtaining dependency information for mlxtend from https://files.pythonhosted.org/packages/73/da/d5d77a9a7a135c948dbf8d3b873655b105a152d69e590150c83d23c3d070/mlxtend-0.23.0-py3-none-any.whl.metadata\n",
      "  Downloading mlxtend-0.23.0-py3-none-any.whl.metadata (7.3 kB)\n",
      "Requirement already satisfied: scipy>=1.2.1 in c:\\users\\nazia sheikh\\anaconda3\\lib\\site-packages (from mlxtend) (1.10.1)\n",
      "Requirement already satisfied: numpy>=1.16.2 in c:\\users\\nazia sheikh\\anaconda3\\lib\\site-packages (from mlxtend) (1.24.3)\n",
      "Requirement already satisfied: pandas>=0.24.2 in c:\\users\\nazia sheikh\\anaconda3\\lib\\site-packages (from mlxtend) (1.5.3)\n",
      "Requirement already satisfied: scikit-learn>=1.0.2 in c:\\users\\nazia sheikh\\anaconda3\\lib\\site-packages (from mlxtend) (1.3.0)\n",
      "Requirement already satisfied: matplotlib>=3.0.0 in c:\\users\\nazia sheikh\\anaconda3\\lib\\site-packages (from mlxtend) (3.7.1)\n",
      "Requirement already satisfied: joblib>=0.13.2 in c:\\users\\nazia sheikh\\anaconda3\\lib\\site-packages (from mlxtend) (1.2.0)\n",
      "Requirement already satisfied: contourpy>=1.0.1 in c:\\users\\nazia sheikh\\anaconda3\\lib\\site-packages (from matplotlib>=3.0.0->mlxtend) (1.0.5)\n",
      "Requirement already satisfied: cycler>=0.10 in c:\\users\\nazia sheikh\\anaconda3\\lib\\site-packages (from matplotlib>=3.0.0->mlxtend) (0.11.0)\n",
      "Requirement already satisfied: fonttools>=4.22.0 in c:\\users\\nazia sheikh\\anaconda3\\lib\\site-packages (from matplotlib>=3.0.0->mlxtend) (4.25.0)\n",
      "Requirement already satisfied: kiwisolver>=1.0.1 in c:\\users\\nazia sheikh\\anaconda3\\lib\\site-packages (from matplotlib>=3.0.0->mlxtend) (1.4.4)\n",
      "Requirement already satisfied: packaging>=20.0 in c:\\users\\nazia sheikh\\anaconda3\\lib\\site-packages (from matplotlib>=3.0.0->mlxtend) (23.0)\n",
      "Requirement already satisfied: pillow>=6.2.0 in c:\\users\\nazia sheikh\\anaconda3\\lib\\site-packages (from matplotlib>=3.0.0->mlxtend) (9.4.0)\n",
      "Requirement already satisfied: pyparsing>=2.3.1 in c:\\users\\nazia sheikh\\anaconda3\\lib\\site-packages (from matplotlib>=3.0.0->mlxtend) (3.0.9)\n",
      "Requirement already satisfied: python-dateutil>=2.7 in c:\\users\\nazia sheikh\\anaconda3\\lib\\site-packages (from matplotlib>=3.0.0->mlxtend) (2.8.2)\n",
      "Requirement already satisfied: pytz>=2020.1 in c:\\users\\nazia sheikh\\anaconda3\\lib\\site-packages (from pandas>=0.24.2->mlxtend) (2022.7)\n",
      "Requirement already satisfied: threadpoolctl>=2.0.0 in c:\\users\\nazia sheikh\\anaconda3\\lib\\site-packages (from scikit-learn>=1.0.2->mlxtend) (2.2.0)\n",
      "Requirement already satisfied: six>=1.5 in c:\\users\\nazia sheikh\\anaconda3\\lib\\site-packages (from python-dateutil>=2.7->matplotlib>=3.0.0->mlxtend) (1.16.0)\n",
      "Downloading mlxtend-0.23.0-py3-none-any.whl (1.4 MB)\n",
      "   ---------------------------------------- 0.0/1.4 MB ? eta -:--:--\n",
      "   - -------------------------------------- 0.0/1.4 MB 2.0 MB/s eta 0:00:01\n",
      "   - -------------------------------------- 0.1/1.4 MB 1.1 MB/s eta 0:00:02\n",
      "   --- ------------------------------------ 0.1/1.4 MB 1.0 MB/s eta 0:00:02\n",
      "   --- ------------------------------------ 0.1/1.4 MB 1.0 MB/s eta 0:00:02\n",
      "   ---- ----------------------------------- 0.2/1.4 MB 706.2 kB/s eta 0:00:02\n",
      "   ---- ----------------------------------- 0.2/1.4 MB 748.1 kB/s eta 0:00:02\n",
      "   ------ --------------------------------- 0.2/1.4 MB 765.3 kB/s eta 0:00:02\n",
      "   ------- -------------------------------- 0.3/1.4 MB 749.3 kB/s eta 0:00:02\n",
      "   ------- -------------------------------- 0.3/1.4 MB 682.7 kB/s eta 0:00:02\n",
      "   -------- ------------------------------- 0.3/1.4 MB 679.5 kB/s eta 0:00:02\n",
      "   -------- ------------------------------- 0.3/1.4 MB 655.0 kB/s eta 0:00:02\n",
      "   --------- ------------------------------ 0.4/1.4 MB 676.0 kB/s eta 0:00:02\n",
      "   ---------- ----------------------------- 0.4/1.4 MB 692.6 kB/s eta 0:00:02\n",
      "   ----------- ---------------------------- 0.4/1.4 MB 672.6 kB/s eta 0:00:02\n",
      "   ------------ --------------------------- 0.5/1.4 MB 671.2 kB/s eta 0:00:02\n",
      "   ------------- -------------------------- 0.5/1.4 MB 670.0 kB/s eta 0:00:02\n",
      "   -------------- ------------------------- 0.5/1.4 MB 696.3 kB/s eta 0:00:02\n",
      "   --------------- ------------------------ 0.6/1.4 MB 694.9 kB/s eta 0:00:02\n",
      "   ---------------- ----------------------- 0.6/1.4 MB 691.4 kB/s eta 0:00:02\n",
      "   ---------------- ----------------------- 0.6/1.4 MB 678.8 kB/s eta 0:00:02\n",
      "   ------------------ --------------------- 0.7/1.4 MB 710.8 kB/s eta 0:00:02\n",
      "   ------------------- -------------------- 0.7/1.4 MB 697.2 kB/s eta 0:00:02\n",
      "   -------------------- ------------------- 0.7/1.4 MB 695.2 kB/s eta 0:00:02\n",
      "   --------------------- ------------------ 0.8/1.4 MB 692.6 kB/s eta 0:00:01\n",
      "   ---------------------- ----------------- 0.8/1.4 MB 710.0 kB/s eta 0:00:01\n",
      "   ----------------------- ---------------- 0.8/1.4 MB 707.4 kB/s eta 0:00:01\n",
      "   ------------------------- -------------- 0.9/1.4 MB 755.1 kB/s eta 0:00:01\n",
      "   --------------------------- ------------ 1.0/1.4 MB 767.4 kB/s eta 0:00:01\n",
      "   ----------------------------- ---------- 1.1/1.4 MB 809.6 kB/s eta 0:00:01\n",
      "   ------------------------------- -------- 1.2/1.4 MB 834.1 kB/s eta 0:00:01\n",
      "   --------------------------------- ------ 1.2/1.4 MB 826.6 kB/s eta 0:00:01\n",
      "   ----------------------------------- ---- 1.3/1.4 MB 855.6 kB/s eta 0:00:01\n",
      "   ------------------------------------ --- 1.3/1.4 MB 853.9 kB/s eta 0:00:01\n",
      "   -------------------------------------- - 1.4/1.4 MB 878.5 kB/s eta 0:00:01\n",
      "   ---------------------------------------  1.4/1.4 MB 891.0 kB/s eta 0:00:01\n",
      "   ---------------------------------------  1.4/1.4 MB 891.0 kB/s eta 0:00:01\n",
      "   ---------------------------------------- 1.4/1.4 MB 837.3 kB/s eta 0:00:00\n",
      "Installing collected packages: mlxtend\n",
      "Successfully installed mlxtend-0.23.0\n"
     ]
    }
   ],
   "source": [
    "!pip install mlxtend"
   ]
  },
  {
   "cell_type": "code",
   "execution_count": null,
   "id": "ab91a62e",
   "metadata": {},
   "outputs": [],
   "source": [
    "from mlxtend.feature_selection import SequentialFeatureSelector as SFS \n",
    "reg = LinearRegression()\n",
    "sfs = SFS(reg, k_features = X_train.shape[1], \n",
    "         forward = True, floating=False, scoring='r2', n_jobs= -1, cv=5)\n",
    "sfs = sfs.fit(X_train, Y_train)"
   ]
  },
  {
   "cell_type": "code",
   "execution_count": null,
   "id": "fa65f93b",
   "metadata": {},
   "outputs": [],
   "source": [
    "from mlxtend.plotting import plot_sequential_feature_selection as plot_sfs\n",
    "fig1 = plot_sfs(sfs.get_metric_dict(), kind='std_err', figsize=(15,5))\n",
    "plt.title(\"FEature Selector - SFS\")\n",
    "plt.xticks(rotation=90)\n",
    "plt.show()"
   ]
  },
  {
   "cell_type": "code",
   "execution_count": 99,
   "id": "678eb9fe",
   "metadata": {},
   "outputs": [
    {
     "name": "stdout",
     "output_type": "stream",
     "text": [
      "Training Data Performance\n"
     ]
    },
    {
     "data": {
      "text/html": [
       "<div>\n",
       "<style scoped>\n",
       "    .dataframe tbody tr th:only-of-type {\n",
       "        vertical-align: middle;\n",
       "    }\n",
       "\n",
       "    .dataframe tbody tr th {\n",
       "        vertical-align: top;\n",
       "    }\n",
       "\n",
       "    .dataframe thead th {\n",
       "        text-align: right;\n",
       "    }\n",
       "</style>\n",
       "<table border=\"1\" class=\"dataframe\">\n",
       "  <thead>\n",
       "    <tr style=\"text-align: right;\">\n",
       "      <th></th>\n",
       "      <th>RMSE</th>\n",
       "      <th>R2 Score</th>\n",
       "    </tr>\n",
       "  </thead>\n",
       "  <tbody>\n",
       "    <tr>\n",
       "      <th>0</th>\n",
       "      <td>0.574895</td>\n",
       "      <td>0.524197</td>\n",
       "    </tr>\n",
       "  </tbody>\n",
       "</table>\n",
       "</div>"
      ],
      "text/plain": [
       "       RMSE  R2 Score\n",
       "0  0.574895  0.524197"
      ]
     },
     "execution_count": 99,
     "metadata": {},
     "output_type": "execute_result"
    }
   ],
   "source": [
    "print(\"Training Data Performance\")\n",
    "lin_model_train = Model_performance(lin_model, X_train, Y_train)\n",
    "lin_model_train"
   ]
  },
  {
   "cell_type": "code",
   "execution_count": 100,
   "id": "e28317fb",
   "metadata": {},
   "outputs": [
    {
     "name": "stdout",
     "output_type": "stream",
     "text": [
      "Training Data Performance\n"
     ]
    },
    {
     "data": {
      "text/html": [
       "<div>\n",
       "<style scoped>\n",
       "    .dataframe tbody tr th:only-of-type {\n",
       "        vertical-align: middle;\n",
       "    }\n",
       "\n",
       "    .dataframe tbody tr th {\n",
       "        vertical-align: top;\n",
       "    }\n",
       "\n",
       "    .dataframe thead th {\n",
       "        text-align: right;\n",
       "    }\n",
       "</style>\n",
       "<table border=\"1\" class=\"dataframe\">\n",
       "  <thead>\n",
       "    <tr style=\"text-align: right;\">\n",
       "      <th></th>\n",
       "      <th>RMSE</th>\n",
       "      <th>R2 Score</th>\n",
       "    </tr>\n",
       "  </thead>\n",
       "  <tbody>\n",
       "    <tr>\n",
       "      <th>0</th>\n",
       "      <td>0.5626</td>\n",
       "      <td>0.521878</td>\n",
       "    </tr>\n",
       "  </tbody>\n",
       "</table>\n",
       "</div>"
      ],
      "text/plain": [
       "     RMSE  R2 Score\n",
       "0  0.5626  0.521878"
      ]
     },
     "execution_count": 100,
     "metadata": {},
     "output_type": "execute_result"
    }
   ],
   "source": [
    "print(\"Training Data Performance\")\n",
    "lin_model_train = Model_performance(lin_model, X_test, Y_test)\n",
    "lin_model_train"
   ]
  },
  {
   "cell_type": "code",
   "execution_count": 101,
   "id": "654d72d6",
   "metadata": {},
   "outputs": [
    {
     "data": {
      "text/plain": [
       "Index(['duration', 'years_running', 'contentWarn', 'wantWatch', 'dropped',\n",
       "       'votes', 'tag_Based_on_a_Manga', 'tag_Action', 'tag_Fantasy',\n",
       "       'tag_Shounen', 'tag_Drama', 'tag_Family_Friendly', 'tag_Shorts',\n",
       "       'tag_Slice_of_Life', 'tag_Seinen', 'tag_Supernatural', 'tag_Ecchi',\n",
       "       'tag_Based_on_a_Light_Novel', 'mediaType_Movie', 'mediaType_OVA',\n",
       "       'mediaType_Other', 'mediaType_TV', 'mediaType_TV Special',\n",
       "       'mediaType_Web', 'studio_primary_Bones', 'studio_primary_DLE',\n",
       "       'studio_primary_Others', 'studio_primary_Production I.G',\n",
       "       'studio_primary_Studio Deen', 'studio_primary_Sunrise',\n",
       "       'studio_primary_TMS Entertainment', 'studio_primary_Toei Animation',\n",
       "       'studio_primary_is_missing', 'Duration_category_20-40',\n",
       "       'Duration_category_>80'],\n",
       "      dtype='object')"
      ]
     },
     "execution_count": 101,
     "metadata": {},
     "output_type": "execute_result"
    }
   ],
   "source": [
    "X_train.columns[feature_index]"
   ]
  },
  {
   "cell_type": "code",
   "execution_count": 102,
   "id": "c130a088",
   "metadata": {},
   "outputs": [
    {
     "data": {
      "text/html": [
       "<div>\n",
       "<style scoped>\n",
       "    .dataframe tbody tr th:only-of-type {\n",
       "        vertical-align: middle;\n",
       "    }\n",
       "\n",
       "    .dataframe tbody tr th {\n",
       "        vertical-align: top;\n",
       "    }\n",
       "\n",
       "    .dataframe thead th {\n",
       "        text-align: right;\n",
       "    }\n",
       "</style>\n",
       "<table border=\"1\" class=\"dataframe\">\n",
       "  <thead>\n",
       "    <tr style=\"text-align: right;\">\n",
       "      <th></th>\n",
       "      <th>duration</th>\n",
       "      <th>years_running</th>\n",
       "      <th>studios_colab</th>\n",
       "      <th>contentWarn</th>\n",
       "      <th>watching</th>\n",
       "      <th>wantWatch</th>\n",
       "      <th>dropped</th>\n",
       "      <th>votes</th>\n",
       "      <th>tag_Based_on_a_Manga</th>\n",
       "      <th>tag_Comedy</th>\n",
       "      <th>...</th>\n",
       "      <th>studio_primary_Sunrise</th>\n",
       "      <th>studio_primary_TMS Entertainment</th>\n",
       "      <th>studio_primary_Tatsunoko Production</th>\n",
       "      <th>studio_primary_Toei Animation</th>\n",
       "      <th>studio_primary_XEBEC</th>\n",
       "      <th>studio_primary_is_missing</th>\n",
       "      <th>Duration_category_20-40</th>\n",
       "      <th>Duration_category_40-60</th>\n",
       "      <th>Duration_category_60-80</th>\n",
       "      <th>Duration_category_&gt;80</th>\n",
       "    </tr>\n",
       "  </thead>\n",
       "  <tbody>\n",
       "    <tr>\n",
       "      <th>8843</th>\n",
       "      <td>1.0</td>\n",
       "      <td>0</td>\n",
       "      <td>0</td>\n",
       "      <td>0</td>\n",
       "      <td>0</td>\n",
       "      <td>17</td>\n",
       "      <td>0</td>\n",
       "      <td>14</td>\n",
       "      <td>0</td>\n",
       "      <td>0</td>\n",
       "      <td>...</td>\n",
       "      <td>0</td>\n",
       "      <td>0</td>\n",
       "      <td>0</td>\n",
       "      <td>0</td>\n",
       "      <td>0</td>\n",
       "      <td>1</td>\n",
       "      <td>0</td>\n",
       "      <td>0</td>\n",
       "      <td>0</td>\n",
       "      <td>0</td>\n",
       "    </tr>\n",
       "    <tr>\n",
       "      <th>1599</th>\n",
       "      <td>24.0</td>\n",
       "      <td>0</td>\n",
       "      <td>0</td>\n",
       "      <td>0</td>\n",
       "      <td>24</td>\n",
       "      <td>1117</td>\n",
       "      <td>15</td>\n",
       "      <td>735</td>\n",
       "      <td>1</td>\n",
       "      <td>1</td>\n",
       "      <td>...</td>\n",
       "      <td>0</td>\n",
       "      <td>0</td>\n",
       "      <td>0</td>\n",
       "      <td>0</td>\n",
       "      <td>0</td>\n",
       "      <td>0</td>\n",
       "      <td>1</td>\n",
       "      <td>0</td>\n",
       "      <td>0</td>\n",
       "      <td>0</td>\n",
       "    </tr>\n",
       "  </tbody>\n",
       "</table>\n",
       "<p>2 rows × 72 columns</p>\n",
       "</div>"
      ],
      "text/plain": [
       "      duration  years_running  studios_colab  contentWarn  watching  \\\n",
       "8843       1.0              0              0            0         0   \n",
       "1599      24.0              0              0            0        24   \n",
       "\n",
       "      wantWatch  dropped  votes  tag_Based_on_a_Manga  tag_Comedy  ...  \\\n",
       "8843         17        0     14                     0           0  ...   \n",
       "1599       1117       15    735                     1           1  ...   \n",
       "\n",
       "      studio_primary_Sunrise  studio_primary_TMS Entertainment  \\\n",
       "8843                       0                                 0   \n",
       "1599                       0                                 0   \n",
       "\n",
       "      studio_primary_Tatsunoko Production  studio_primary_Toei Animation  \\\n",
       "8843                                    0                              0   \n",
       "1599                                    0                              0   \n",
       "\n",
       "      studio_primary_XEBEC  studio_primary_is_missing  \\\n",
       "8843                     0                          1   \n",
       "1599                     0                          0   \n",
       "\n",
       "      Duration_category_20-40  Duration_category_40-60  \\\n",
       "8843                        0                        0   \n",
       "1599                        1                        0   \n",
       "\n",
       "      Duration_category_60-80  Duration_category_>80  \n",
       "8843                        0                      0  \n",
       "1599                        0                      0  \n",
       "\n",
       "[2 rows x 72 columns]"
      ]
     },
     "execution_count": 102,
     "metadata": {},
     "output_type": "execute_result"
    }
   ],
   "source": [
    "X_train.head(2)"
   ]
  },
  {
   "cell_type": "code",
   "execution_count": null,
   "id": "e299de22",
   "metadata": {},
   "outputs": [],
   "source": []
  }
 ],
 "metadata": {
  "kernelspec": {
   "display_name": "Python 3 (ipykernel)",
   "language": "python",
   "name": "python3"
  },
  "language_info": {
   "codemirror_mode": {
    "name": "ipython",
    "version": 3
   },
   "file_extension": ".py",
   "mimetype": "text/x-python",
   "name": "python",
   "nbconvert_exporter": "python",
   "pygments_lexer": "ipython3",
   "version": "3.11.4"
  }
 },
 "nbformat": 4,
 "nbformat_minor": 5
}
